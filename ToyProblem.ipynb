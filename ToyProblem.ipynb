{
 "cells": [
  {
   "cell_type": "markdown",
   "id": "6399a076",
   "metadata": {},
   "source": [
    "## Toy problem for DQN, before applying DQN to mag inversion\n",
    "\n",
    "#### Have square with length dx = 3, dy = 3 in subsurface, infinite depth, each measurement is vertical measurement down, return 1 if hit square, -1 if do not hit square. Goal is to determine position of square. Similar RL implementation to inversion problem since state is 2D image, reward is determined at the end (ground truthing), action is moving into one of the 4 consecutive cells, objective is getting as close to reality as possible, by determining optimal survey positions. The benefit of doing this toy problem first is that it is easy to see if the DQN will find the optimal solution"
   ]
  },
  {
   "cell_type": "code",
   "execution_count": 36,
   "id": "89544c7e",
   "metadata": {},
   "outputs": [],
   "source": [
    "import numpy as np\n",
    "import matplotlib.pyplot as plt\n",
    "import random\n"
   ]
  },
  {
   "cell_type": "code",
   "execution_count": 37,
   "id": "ecf568ca",
   "metadata": {},
   "outputs": [
    {
     "data": {
      "text/plain": [
       "0"
      ]
     },
     "execution_count": 37,
     "metadata": {},
     "output_type": "execute_result"
    }
   ],
   "source": [
    "random.randint(0,1)"
   ]
  },
  {
   "cell_type": "code",
   "execution_count": 38,
   "id": "8b8df5ae",
   "metadata": {},
   "outputs": [
    {
     "data": {
      "text/plain": [
       "array([[0., 0., 0., 0., 0., 0., 0., 0., 0., 0.],\n",
       "       [0., 0., 0., 0., 0., 0., 0., 0., 0., 0.],\n",
       "       [0., 0., 0., 0., 0., 0., 0., 0., 0., 0.],\n",
       "       [0., 1., 1., 1., 1., 1., 0., 0., 0., 0.],\n",
       "       [0., 1., 1., 1., 1., 1., 0., 0., 0., 0.],\n",
       "       [0., 1., 1., 1., 1., 1., 0., 0., 0., 0.],\n",
       "       [0., 1., 1., 1., 1., 1., 0., 0., 0., 0.],\n",
       "       [0., 1., 1., 1., 1., 1., 0., 0., 0., 0.],\n",
       "       [0., 0., 0., 0., 0., 0., 0., 0., 0., 0.],\n",
       "       [0., 0., 0., 0., 0., 0., 0., 0., 0., 0.]])"
      ]
     },
     "execution_count": 38,
     "metadata": {},
     "output_type": "execute_result"
    }
   ],
   "source": [
    "#setting up subsurface model:\n",
    "\n",
    "M = np.zeros([10,10]) #generate grid of zeros\n",
    "\n",
    "tlc = [random.randint(0,5),random.randint(0,5)] #top left corner\n",
    "\n",
    "M[tlc[0]:tlc[0] + 5, tlc[1]:tlc[1] + 5] = 1\n",
    "M"
   ]
  },
  {
   "cell_type": "code",
   "execution_count": 39,
   "id": "fa6f0575",
   "metadata": {},
   "outputs": [
    {
     "data": {
      "text/plain": [
       "0.0"
      ]
     },
     "execution_count": 39,
     "metadata": {},
     "output_type": "execute_result"
    }
   ],
   "source": [
    "M[9,0]"
   ]
  },
  {
   "cell_type": "code",
   "execution_count": 40,
   "id": "d550f78c",
   "metadata": {},
   "outputs": [
    {
     "data": {
      "text/plain": [
       "True"
      ]
     },
     "execution_count": 40,
     "metadata": {},
     "output_type": "execute_result"
    }
   ],
   "source": [
    "not False"
   ]
  },
  {
   "cell_type": "code",
   "execution_count": 224,
   "id": "92ec1f15",
   "metadata": {},
   "outputs": [],
   "source": [
    "#setting up actions:\n",
    "\n",
    "sp = [0,0] #starting position\n",
    "\n",
    "a = random.randint(1,4) #1 right, 2 up, 3 left, 4 down\n",
    "\n",
    "def movef(action, position):\n",
    "    moved = False\n",
    "    newposition = position #make the new position the current position, so position does not change if move is invalid\n",
    "    if action == 1 and position[1] != 9: #right\n",
    "        newposition = [position[0], position[1]+1]\n",
    "        moved == True\n",
    "    if action == 2 and position[0] != 0: #up\n",
    "        newposition = [position[0]-1, position[1]]\n",
    "        moved == True\n",
    "    if action == 3 and position[1] != 0: #left\n",
    "        newposition = [position[0], position[1]-1]\n",
    "        moved == True\n",
    "    if action == 4 and position[0] != 9: #down\n",
    "        newposition = [position[0] + 1, position[1]]\n",
    "        moved == True\n",
    "    return newposition"
   ]
  },
  {
   "cell_type": "code",
   "execution_count": 42,
   "id": "ddfc2f35",
   "metadata": {},
   "outputs": [
    {
     "data": {
      "text/plain": [
       "0.0"
      ]
     },
     "execution_count": 42,
     "metadata": {},
     "output_type": "execute_result"
    }
   ],
   "source": [
    "M[7,6]"
   ]
  },
  {
   "cell_type": "code",
   "execution_count": 69,
   "id": "88f1173f",
   "metadata": {},
   "outputs": [
    {
     "data": {
      "text/plain": [
       "[6, 5]"
      ]
     },
     "execution_count": 69,
     "metadata": {},
     "output_type": "execute_result"
    }
   ],
   "source": [
    "movef(4, [5,5])"
   ]
  },
  {
   "cell_type": "code",
   "execution_count": 94,
   "id": "e401112e",
   "metadata": {},
   "outputs": [],
   "source": []
  },
  {
   "cell_type": "code",
   "execution_count": 108,
   "id": "06b8bac5",
   "metadata": {},
   "outputs": [],
   "source": [
    "state = np.zeros([len(M), len(M)])\n",
    "sp = [0,0] #start at top left corner\n",
    "\n",
    "#0 denotes original \"move\", it does not move \n",
    "movelist = [0,4,4,4,4,1,2,2,1,4,4,1,1,1,1,1,4,3,3,4,4,4] \n",
    "#but surveys at original position\n",
    "\n",
    "p = sp \n",
    "\n",
    "\n",
    "\n",
    "#go through moves\n",
    "for move in movelist:\n",
    "    p = movef(move, p)\n",
    "    state[p[0], p[1]] = M[p[0], p[1]] * 2 - 1\n",
    "    \n",
    "#in RL, the next move will be determined from the policy and current state"
   ]
  },
  {
   "cell_type": "code",
   "execution_count": 109,
   "id": "1e425783",
   "metadata": {},
   "outputs": [
    {
     "data": {
      "text/plain": [
       "array([[-1.,  0.,  0.,  0.,  0.,  0.,  0.,  0.,  0.,  0.],\n",
       "       [-1.,  0.,  0.,  0.,  0.,  0.,  0.,  0.,  0.,  0.],\n",
       "       [-1., -1., -1.,  0.,  0.,  0.,  0.,  0.,  0.,  0.],\n",
       "       [-1.,  1.,  1.,  0.,  0.,  0.,  0.,  0.,  0.,  0.],\n",
       "       [-1.,  1.,  1.,  1.,  1.,  1., -1., -1.,  0.,  0.],\n",
       "       [ 0.,  0.,  0.,  0.,  0.,  1., -1., -1.,  0.,  0.],\n",
       "       [ 0.,  0.,  0.,  0.,  0.,  1.,  0.,  0.,  0.,  0.],\n",
       "       [ 0.,  0.,  0.,  0.,  0.,  1.,  0.,  0.,  0.,  0.],\n",
       "       [ 0.,  0.,  0.,  0.,  0., -1.,  0.,  0.,  0.,  0.],\n",
       "       [ 0.,  0.,  0.,  0.,  0.,  0.,  0.,  0.,  0.,  0.]])"
      ]
     },
     "execution_count": 109,
     "metadata": {},
     "output_type": "execute_result"
    }
   ],
   "source": [
    "state"
   ]
  },
  {
   "cell_type": "code",
   "execution_count": 110,
   "id": "a434274a",
   "metadata": {},
   "outputs": [
    {
     "data": {
      "text/plain": [
       "array([[0., 0., 0., 0., 0., 0., 0., 0., 0., 0.],\n",
       "       [0., 0., 0., 0., 0., 0., 0., 0., 0., 0.],\n",
       "       [0., 0., 0., 0., 0., 0., 0., 0., 0., 0.],\n",
       "       [0., 1., 1., 1., 1., 1., 0., 0., 0., 0.],\n",
       "       [0., 1., 1., 1., 1., 1., 0., 0., 0., 0.],\n",
       "       [0., 1., 1., 1., 1., 1., 0., 0., 0., 0.],\n",
       "       [0., 1., 1., 1., 1., 1., 0., 0., 0., 0.],\n",
       "       [0., 1., 1., 1., 1., 1., 0., 0., 0., 0.],\n",
       "       [0., 0., 0., 0., 0., 0., 0., 0., 0., 0.],\n",
       "       [0., 0., 0., 0., 0., 0., 0., 0., 0., 0.]])"
      ]
     },
     "execution_count": 110,
     "metadata": {},
     "output_type": "execute_result"
    }
   ],
   "source": [
    "M"
   ]
  },
  {
   "cell_type": "code",
   "execution_count": 316,
   "id": "1a7d6630",
   "metadata": {},
   "outputs": [],
   "source": [
    "#now for the reward, we do ground truthing, by fitting a 5x5 square to the\n",
    "#state data, and then determining the misfit\n",
    "\n",
    "def fitstate(S): #takes in the state\n",
    "    fit = False\n",
    "\n",
    "    while(not fit):\n",
    "        #generate possible fit model:\n",
    "        fM = np.zeros([10,10]) #fit Model\n",
    "        ftlc = [random.randint(0,5),random.randint(0,5)] #fit top left corner\n",
    "        fM[ftlc[0]:ftlc[0] + 5, ftlc[1]:ftlc[1] + 5] = 1\n",
    "\n",
    "        fit = True #make fit true, but false if fit does not agree with survey\n",
    "        for i in range(len(fM)):\n",
    "            for j in range(len(fM[i])):\n",
    "                if(S[i,j] != 0 and fM[i,j] * 2 - 1 != S[i,j]):\n",
    "                    fit = False\n",
    "    return fM"
   ]
  },
  {
   "cell_type": "code",
   "execution_count": 317,
   "id": "a856d5bf",
   "metadata": {},
   "outputs": [],
   "source": [
    "fM = fitstate(state)"
   ]
  },
  {
   "cell_type": "code",
   "execution_count": 318,
   "id": "0bc80e40",
   "metadata": {},
   "outputs": [
    {
     "data": {
      "text/plain": [
       "array([0., 0., 0., 0., 0., 0., 0., 0., 0., 0.])"
      ]
     },
     "execution_count": 318,
     "metadata": {},
     "output_type": "execute_result"
    }
   ],
   "source": [
    "M[1]"
   ]
  },
  {
   "cell_type": "code",
   "execution_count": 319,
   "id": "19f14973",
   "metadata": {},
   "outputs": [
    {
     "data": {
      "text/plain": [
       "array([[ 0.,  0.,  0.,  0.,  0.,  0.,  0.,  0.,  0.,  0.],\n",
       "       [ 0.,  0.,  0.,  0.,  0.,  0.,  0.,  0.,  0.,  0.],\n",
       "       [ 0.,  0.,  0.,  0.,  0.,  0.,  0.,  0.,  0.,  0.],\n",
       "       [-1.,  1.,  0.,  0.,  0.,  0.,  0.,  0.,  0.,  0.],\n",
       "       [-1.,  1.,  0.,  0.,  0.,  0.,  0.,  0.,  0.,  0.],\n",
       "       [-1.,  1.,  1.,  0.,  1.,  1.,  0.,  0.,  0.,  0.],\n",
       "       [-1.,  1.,  1.,  1.,  0.,  1., -1.,  0.,  0.,  0.],\n",
       "       [-1.,  1.,  1.,  1.,  1.,  1.,  0.,  0.,  0.,  0.],\n",
       "       [-1., -1.,  0.,  0.,  0.,  0.,  0.,  0.,  0.,  0.],\n",
       "       [-1.,  0.,  0.,  0.,  0.,  0.,  0.,  0.,  0.,  0.]])"
      ]
     },
     "execution_count": 319,
     "metadata": {},
     "output_type": "execute_result"
    }
   ],
   "source": [
    "state"
   ]
  },
  {
   "cell_type": "code",
   "execution_count": 320,
   "id": "474b8752",
   "metadata": {},
   "outputs": [
    {
     "data": {
      "text/plain": [
       "array([[0., 0., 0., 0., 0., 0., 0., 0., 0., 0.],\n",
       "       [0., 0., 0., 0., 0., 0., 0., 0., 0., 0.],\n",
       "       [0., 0., 0., 0., 0., 0., 0., 0., 0., 0.],\n",
       "       [0., 1., 1., 1., 1., 1., 0., 0., 0., 0.],\n",
       "       [0., 1., 1., 1., 1., 1., 0., 0., 0., 0.],\n",
       "       [0., 1., 1., 1., 1., 1., 0., 0., 0., 0.],\n",
       "       [0., 1., 1., 1., 1., 1., 0., 0., 0., 0.],\n",
       "       [0., 1., 1., 1., 1., 1., 0., 0., 0., 0.],\n",
       "       [0., 0., 0., 0., 0., 0., 0., 0., 0., 0.],\n",
       "       [0., 0., 0., 0., 0., 0., 0., 0., 0., 0.]])"
      ]
     },
     "execution_count": 320,
     "metadata": {},
     "output_type": "execute_result"
    }
   ],
   "source": [
    "M"
   ]
  },
  {
   "cell_type": "code",
   "execution_count": 321,
   "id": "6a17c7a1",
   "metadata": {},
   "outputs": [
    {
     "data": {
      "text/plain": [
       "array([[0., 0., 0., 0., 0., 0., 0., 0., 0., 0.],\n",
       "       [0., 0., 0., 0., 0., 0., 0., 0., 0., 0.],\n",
       "       [0., 0., 0., 0., 0., 0., 0., 0., 0., 0.],\n",
       "       [0., 1., 1., 1., 1., 1., 0., 0., 0., 0.],\n",
       "       [0., 1., 1., 1., 1., 1., 0., 0., 0., 0.],\n",
       "       [0., 1., 1., 1., 1., 1., 0., 0., 0., 0.],\n",
       "       [0., 1., 1., 1., 1., 1., 0., 0., 0., 0.],\n",
       "       [0., 1., 1., 1., 1., 1., 0., 0., 0., 0.],\n",
       "       [0., 0., 0., 0., 0., 0., 0., 0., 0., 0.],\n",
       "       [0., 0., 0., 0., 0., 0., 0., 0., 0., 0.]])"
      ]
     },
     "execution_count": 321,
     "metadata": {},
     "output_type": "execute_result"
    }
   ],
   "source": [
    "fM"
   ]
  },
  {
   "cell_type": "code",
   "execution_count": 322,
   "id": "c9b9ef47",
   "metadata": {},
   "outputs": [],
   "source": [
    "#now get reward, ~reciprocal of RMS"
   ]
  },
  {
   "cell_type": "code",
   "execution_count": 323,
   "id": "a43da3df",
   "metadata": {},
   "outputs": [],
   "source": [
    "def RMSreward(real, fit):\n",
    "    real = np.array(real)\n",
    "    fit = np.array(fit)\n",
    "    RMS = np.sqrt(np.average((real - fit)**2))\n",
    "    reward = 1/(RMS + 1)\n",
    "    return reward"
   ]
  },
  {
   "cell_type": "code",
   "execution_count": 324,
   "id": "2f12e50b",
   "metadata": {},
   "outputs": [
    {
     "data": {
      "text/plain": [
       "0.6666666666666666"
      ]
     },
     "execution_count": 324,
     "metadata": {},
     "output_type": "execute_result"
    }
   ],
   "source": [
    "real = [1,1,1,1]\n",
    "fit = [1,1,1,2]\n",
    "RMSreward(real, fit)"
   ]
  },
  {
   "cell_type": "code",
   "execution_count": 325,
   "id": "175ae665",
   "metadata": {},
   "outputs": [
    {
     "data": {
      "text/plain": [
       "100.0"
      ]
     },
     "execution_count": 325,
     "metadata": {},
     "output_type": "execute_result"
    }
   ],
   "source": [
    "np.sum(np.ones([10,10]))"
   ]
  },
  {
   "cell_type": "code",
   "execution_count": 326,
   "id": "b09f5b28",
   "metadata": {},
   "outputs": [
    {
     "data": {
      "text/plain": [
       "1.0"
      ]
     },
     "execution_count": 326,
     "metadata": {},
     "output_type": "execute_result"
    }
   ],
   "source": [
    "RMSreward(fM, M) #perfect fit"
   ]
  },
  {
   "cell_type": "markdown",
   "id": "73e2106d",
   "metadata": {},
   "source": [
    "### Want to start in the centre have fixed total amount of moves"
   ]
  },
  {
   "cell_type": "code",
   "execution_count": 429,
   "id": "255a9afe",
   "metadata": {},
   "outputs": [],
   "source": [
    "sp = [5,5]\n",
    "\n",
    "mL = [0]\n",
    "for i in range(25): #20 random moves\n",
    "    mL.append(random.randint(1,4))\n"
   ]
  },
  {
   "cell_type": "code",
   "execution_count": 430,
   "id": "6031ea58",
   "metadata": {},
   "outputs": [],
   "source": [
    "p = sp \n",
    "state = np.zeros([len(M), len(M)])\n",
    "\n",
    "#go through moves\n",
    "for move in mL:\n",
    "    p = movef(move, p)\n",
    "    state[p[0], p[1]] = M[p[0], p[1]] * 2 - 1"
   ]
  },
  {
   "cell_type": "code",
   "execution_count": 431,
   "id": "562c6b78",
   "metadata": {},
   "outputs": [
    {
     "data": {
      "text/plain": [
       "array([[0., 0., 0., 0., 0., 0., 0., 0., 0., 0.],\n",
       "       [0., 0., 0., 0., 0., 0., 0., 0., 0., 0.],\n",
       "       [0., 0., 0., 0., 0., 0., 0., 0., 0., 0.],\n",
       "       [0., 0., 0., 0., 0., 0., 0., 0., 0., 0.],\n",
       "       [0., 0., 0., 0., 0., 0., 0., 0., 0., 0.],\n",
       "       [0., 0., 1., 1., 1., 1., 0., 0., 0., 0.],\n",
       "       [0., 1., 1., 1., 1., 0., 0., 0., 0., 0.],\n",
       "       [0., 1., 1., 1., 0., 0., 0., 0., 0., 0.],\n",
       "       [0., 0., 0., 0., 0., 0., 0., 0., 0., 0.],\n",
       "       [0., 0., 0., 0., 0., 0., 0., 0., 0., 0.]])"
      ]
     },
     "execution_count": 431,
     "metadata": {},
     "output_type": "execute_result"
    }
   ],
   "source": [
    "state"
   ]
  },
  {
   "cell_type": "code",
   "execution_count": 432,
   "id": "bd02fb78",
   "metadata": {},
   "outputs": [
    {
     "data": {
      "text/plain": [
       "0.7597469266479578"
      ]
     },
     "execution_count": 432,
     "metadata": {},
     "output_type": "execute_result"
    }
   ],
   "source": [
    "RMSreward(fitstate(state), M) "
   ]
  },
  {
   "cell_type": "code",
   "execution_count": null,
   "id": "20720a5c",
   "metadata": {},
   "outputs": [],
   "source": []
  },
  {
   "cell_type": "code",
   "execution_count": null,
   "id": "03c97a55",
   "metadata": {},
   "outputs": [],
   "source": []
  }
 ],
 "metadata": {
  "kernelspec": {
   "display_name": "Python 3 (ipykernel)",
   "language": "python",
   "name": "python3"
  },
  "language_info": {
   "codemirror_mode": {
    "name": "ipython",
    "version": 3
   },
   "file_extension": ".py",
   "mimetype": "text/x-python",
   "name": "python",
   "nbconvert_exporter": "python",
   "pygments_lexer": "ipython3",
   "version": "3.9.13"
  }
 },
 "nbformat": 4,
 "nbformat_minor": 5
}
