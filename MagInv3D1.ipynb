{
 "cells": [
  {
   "cell_type": "markdown",
   "id": "f1a7a66b",
   "metadata": {},
   "source": [
    "# 3D subsurface \n",
    "\n",
    "## configure for convinience in applying RL (starting with Monte Carlo)\\\n",
    "### 121 survey locations (every 20m), simple inversion grid (every 10m)"
   ]
  },
  {
   "cell_type": "code",
   "execution_count": 381,
   "id": "e61a65aa",
   "metadata": {},
   "outputs": [],
   "source": [
    "import os\n",
    "import numpy as np\n",
    "import matplotlib as mpl\n",
    "import matplotlib.pyplot as plt\n",
    "import tarfile\n",
    "\n",
    "from discretize.utils import mkvc\n",
    "from scipy.interpolate import LinearNDInterpolator\n",
    "\n",
    "\n",
    "from discretize import TensorMesh\n",
    "\n",
    "from SimPEG.potential_fields import magnetics\n",
    "from SimPEG.utils import plot2Ddata, surface2ind_topo, model_builder\n",
    "from SimPEG import (\n",
    "    maps,\n",
    "    data,\n",
    "    inverse_problem,\n",
    "    data_misfit,\n",
    "    regularization,\n",
    "    optimization,\n",
    "    directives,\n",
    "    inversion,\n",
    "    utils,\n",
    ")\n",
    "\n",
    "# sphinx_gallery_thumbnail_number = 3"
   ]
  },
  {
   "cell_type": "code",
   "execution_count": 382,
   "id": "83fa5338",
   "metadata": {},
   "outputs": [],
   "source": [
    "def RMS(real, generated): #compares rms of real and generated model\n",
    "    return np.sqrt(np.average((generated-real)**2))\n",
    "\n"
   ]
  },
  {
   "cell_type": "code",
   "execution_count": 383,
   "id": "3f203266",
   "metadata": {},
   "outputs": [
    {
     "data": {
      "text/plain": [
       "array([[-200., -200.,    0.],\n",
       "       [-200., -190.,    0.],\n",
       "       [-200., -180.,    0.],\n",
       "       ...,\n",
       "       [ 200.,  180.,    0.],\n",
       "       [ 200.,  190.,    0.],\n",
       "       [ 200.,  200.,    0.]])"
      ]
     },
     "execution_count": 383,
     "metadata": {},
     "output_type": "execute_result"
    }
   ],
   "source": [
    "#topo_xyz = np.loadtxt(str(topo_filename))\n",
    "[x_topo, y_topo] = np.meshgrid(np.linspace(-200, 200, 41), np.linspace(-200, 200, 41))\n",
    "z_topo = np.zeros(len(x_topo)*len(y_topo)) #-15 * np.exp(-(x_topo ** 2 + y_topo ** 2) / 80 ** 2)\n",
    "x_topo, y_topo, z_topo = mkvc(x_topo), mkvc(y_topo), mkvc(z_topo)\n",
    "topo_xyz = np.c_[x_topo, y_topo, z_topo]\n",
    "topo_xyz\n"
   ]
  },
  {
   "cell_type": "code",
   "execution_count": 384,
   "id": "2c9adadf",
   "metadata": {},
   "outputs": [
    {
     "data": {
      "text/plain": [
       "<matplotlib.colorbar.Colorbar at 0x7f7b38381bb0>"
      ]
     },
     "execution_count": 384,
     "metadata": {},
     "output_type": "execute_result"
    },
    {
     "data": {
      "image/png": "[encoded data removed]",
      "text/plain": [
       "<Figure size 432x288 with 2 Axes>"
      ]
     },
     "metadata": {
      "needs_background": "light"
     },
     "output_type": "display_data"
    }
   ],
   "source": [
    "plt.imshow(z_topo.reshape(41,41))\n",
    "plt.colorbar()"
   ]
  },
  {
   "cell_type": "code",
   "execution_count": 385,
   "id": "e64ca0ec",
   "metadata": {},
   "outputs": [
    {
     "data": {
      "text/plain": [
       "(1681, 3)"
      ]
     },
     "execution_count": 385,
     "metadata": {},
     "output_type": "execute_result"
    }
   ],
   "source": [
    "topo_xyz.shape"
   ]
  },
  {
   "cell_type": "code",
   "execution_count": 386,
   "id": "947ab739",
   "metadata": {},
   "outputs": [],
   "source": [
    "# Define the observation locations as an (N, 3) numpy array or load them.\n",
    "x = np.linspace(-100.0, 100.0, 11)\n",
    "y = np.linspace(-100.0, 100.0, 11) #10 by 10 grid of observation locations\n",
    "x, y = np.meshgrid(x, y)\n",
    "x, y = mkvc(x.T), mkvc(y.T)\n",
    "fun_interp = LinearNDInterpolator(np.c_[x_topo, y_topo], z_topo)\n",
    "z = fun_interp(np.c_[x, y]) + 10  # Flight height 10 m above surface.\n",
    "receiver_locations = np.c_[x, y, z]\n",
    "\n",
    "# Define the component(s) of the field we want to simulate as a list of strings.\n",
    "# Here we simulation total magnetic intensity data.\n",
    "components = [\"tmi\"]\n",
    "\n",
    "# Use the observation locations and components to define the receivers. To\n",
    "# simulate data, the receivers must be defined as a list.\n",
    "receiver_list = magnetics.receivers.Point(receiver_locations, components=components)\n",
    "\n",
    "receiver_list = [receiver_list]\n",
    "\n",
    "# Define the inducing field H0 = (intensity [nT], inclination [deg], declination [deg])\n",
    "inclination = 90\n",
    "declination = 0\n",
    "strength = 50000\n",
    "inducing_field = (strength, inclination, declination)\n",
    "\n",
    "source_field = magnetics.sources.SourceField(\n",
    "    receiver_list=receiver_list, parameters=inducing_field\n",
    ")\n",
    "\n",
    "# Define the survey\n",
    "survey = magnetics.survey.Survey(source_field)"
   ]
  },
  {
   "cell_type": "code",
   "execution_count": 387,
   "id": "c1f032f8",
   "metadata": {},
   "outputs": [],
   "source": [
    "dh = 10.0\n",
    "hx = [(dh, 20)]\n",
    "hy = [(dh, 20)]\n",
    "hz = [(dh, 20)] #simple mesh \n",
    "mesh = TensorMesh([hx, hy, hz], \"CCN\")"
   ]
  },
  {
   "cell_type": "code",
   "execution_count": 388,
   "id": "cd946724",
   "metadata": {},
   "outputs": [
    {
     "data": {
      "text/html": [
       "<table>\n",
       "  <tr>\n",
       "    <td style='font-weight: bold; font-size: 1.2em; text-align: center;' colspan='3'>TensorMesh</td>\n",
       "    <td style='font-size: 1.2em; text-align: center;'colspan='4'>8,000 cells</td>\n",
       "  </tr>\n",
       "  <tr>\n",
       "    <th></th>\n",
       "    <th></th>\n",
       "    <th colspan='2' style='padding: 5px 20px 5px 20px;'>MESH EXTENT</th>\n",
       "    <th colspan='2' style='padding: 5px 20px 5px 20px;'>CELL WIDTH</th>\n",
       "    <th style='padding: 5px 20px 5px 20px;'>FACTOR</th>\n",
       "  </tr>\n",
       "  <tr>\n",
       "    <th style='padding: 5px 20px 5px 20px;'>dir</th>\n",
       "    <th style='padding: 5px 20px 5px 20px;'>nC</th>\n",
       "    <th style='padding: 5px 20px 5px 20px;'>min</th>\n",
       "    <th style='padding: 5px 20px 5px 20px;'>max</th>\n",
       "    <th style='padding: 5px 20px 5px 20px;'>min</th>\n",
       "    <th style='padding: 5px 20px 5px 20px;'>max</th>\n",
       "    <th style='padding: 5px 20px 5px 20px;'>max</th>\n",
       "  </tr>\n",
       "  <tr>\n",
       "    <td style='padding: 5px 20px 5px 20px;'>x</td>\n",
       "    <td style='padding: 5px 20px 5px 20px;'>20</td>\n",
       "    <td style='padding: 5px 20px 5px 20px;'>-100.00</td>\n",
       "    <td style='padding: 5px 20px 5px 20px;'>100.00</td>\n",
       "    <td style='padding: 5px 20px 5px 20px;'>10.00</td>\n",
       "    <td style='padding: 5px 20px 5px 20px;'>10.00</td>\n",
       "    <td style='padding: 5px 20px 5px 20px;'>1.00</td>\n",
       "  </tr>\n",
       "  <tr>\n",
       "    <td style='padding: 5px 20px 5px 20px;'>y</td>\n",
       "    <td style='padding: 5px 20px 5px 20px;'>20</td>\n",
       "    <td style='padding: 5px 20px 5px 20px;'>-100.00</td>\n",
       "    <td style='padding: 5px 20px 5px 20px;'>100.00</td>\n",
       "    <td style='padding: 5px 20px 5px 20px;'>10.00</td>\n",
       "    <td style='padding: 5px 20px 5px 20px;'>10.00</td>\n",
       "    <td style='padding: 5px 20px 5px 20px;'>1.00</td>\n",
       "  </tr>\n",
       "  <tr>\n",
       "    <td style='padding: 5px 20px 5px 20px;'>z</td>\n",
       "    <td style='padding: 5px 20px 5px 20px;'>20</td>\n",
       "    <td style='padding: 5px 20px 5px 20px;'>-200.00</td>\n",
       "    <td style='padding: 5px 20px 5px 20px;'>0.00</td>\n",
       "    <td style='padding: 5px 20px 5px 20px;'>10.00</td>\n",
       "    <td style='padding: 5px 20px 5px 20px;'>10.00</td>\n",
       "    <td style='padding: 5px 20px 5px 20px;'>1.00</td>\n",
       "  </tr>\n",
       "</table>\n"
      ],
      "text/plain": [
       "\n",
       "  TensorMesh: 8,000 cells\n",
       "\n",
       "                      MESH EXTENT             CELL WIDTH      FACTOR\n",
       "  dir    nC        min           max         min       max      max\n",
       "  ---   ---  ---------------------------  ------------------  ------\n",
       "   x     20       -100.00        100.00     10.00     10.00    1.00\n",
       "   y     20       -100.00        100.00     10.00     10.00    1.00\n",
       "   z     20       -200.00          0.00     10.00     10.00    1.00\n"
      ]
     },
     "execution_count": 388,
     "metadata": {},
     "output_type": "execute_result"
    }
   ],
   "source": [
    "mesh"
   ]
  },
  {
   "cell_type": "code",
   "execution_count": 389,
   "id": "80b3309e",
   "metadata": {
    "scrolled": false
   },
   "outputs": [
    {
     "data": {
      "image/png": "[encoded data removed]",
      "text/plain": [
       "<Figure size 648x288 with 2 Axes>"
      ]
     },
     "metadata": {
      "needs_background": "light"
     },
     "output_type": "display_data"
    }
   ],
   "source": [
    "# Define susceptibility values for each unit in SI\n",
    "background_susceptibility = 0.0001\n",
    "sphere_susceptibility = 0.01\n",
    "\n",
    "# Find cells that are active in the forward modeling (cells below surface)\n",
    "ind_active = surface2ind_topo(mesh, topo_xyz)\n",
    "\n",
    "# Define mapping from model to active cells\n",
    "nC = int(ind_active.sum())\n",
    "model_map = maps.IdentityMap(nP=nC)  # model is a vlue for each active cell\n",
    "\n",
    "# Define model. Models in SimPEG are vector arrays\n",
    "model = background_susceptibility * np.ones(ind_active.sum())\n",
    "ind_sphere = model_builder.getIndicesSphere(\n",
    "    np.r_[0.0, 0.0, -45.0], 15.0, mesh.cell_centers\n",
    ")\n",
    "\n",
    "ind_block = (\n",
    "    (mesh.gridCC[ind_active, 0] > -20.0) #x\n",
    "    & (mesh.gridCC[ind_active, 0] < 20.0)\n",
    "    & (mesh.gridCC[ind_active, 1] > -40.0) #y\n",
    "    & (mesh.gridCC[ind_active, 1] < 40.0)\n",
    "    & (mesh.gridCC[ind_active, 2] > -60.0) #z\n",
    "    & (mesh.gridCC[ind_active, 2] < -40.0)\n",
    ")\n",
    "\n",
    "ind_sphere = ind_sphere[ind_active]\n",
    "\n",
    "model[ind_block] = sphere_susceptibility\n",
    "\n",
    "\n",
    "\n",
    "# Plot Model\n",
    "fig = plt.figure(figsize=(9, 4))\n",
    "\n",
    "plotting_map = maps.InjectActiveCells(mesh, ind_active, np.nan)\n",
    "ax1 = fig.add_axes([0.1, 0.12, 0.73, 0.78])\n",
    "mesh.plotSlice(\n",
    "    plotting_map * model,\n",
    "    normal=\"Y\",\n",
    "    ax=ax1,\n",
    "    ind=int(mesh.nCy / 2)+1,\n",
    "    grid=True,\n",
    "    clim=(np.min(model), np.max(model)),\n",
    ")\n",
    "ax1.set_title(\"Model slice at y = 0 m\")\n",
    "ax1.set_xlabel(\"x (m)\")\n",
    "ax1.set_ylabel(\"z (m)\")\n",
    "\n",
    "ax2 = fig.add_axes([0.85, 0.12, 0.05, 0.78])\n",
    "norm = mpl.colors.Normalize(vmin=np.min(model), vmax=np.max(model))\n",
    "cbar = mpl.colorbar.ColorbarBase(ax2, norm=norm, orientation=\"vertical\")\n",
    "cbar.set_label(\"Magnetic Susceptibility (SI)\", rotation=270, labelpad=15, size=12)\n",
    "\n",
    "plt.show()"
   ]
  },
  {
   "cell_type": "code",
   "execution_count": 390,
   "id": "1ceb0a52",
   "metadata": {},
   "outputs": [
    {
     "data": {
      "text/plain": [
       "5.0"
      ]
     },
     "execution_count": 390,
     "metadata": {},
     "output_type": "execute_result"
    }
   ],
   "source": [
    "mesh.gridCC[ind_active, 1][7000] #y coordinates"
   ]
  },
  {
   "cell_type": "code",
   "execution_count": 391,
   "id": "ebbdc1d6",
   "metadata": {},
   "outputs": [
    {
     "data": {
      "text/plain": [
       "-95.0"
      ]
     },
     "execution_count": 391,
     "metadata": {},
     "output_type": "execute_result"
    }
   ],
   "source": [
    "mesh.gridCC[ind_active, 0][7000] #x coordinates"
   ]
  },
  {
   "cell_type": "code",
   "execution_count": 392,
   "id": "dac9e739",
   "metadata": {},
   "outputs": [
    {
     "data": {
      "text/plain": [
       "(8000,)"
      ]
     },
     "execution_count": 392,
     "metadata": {},
     "output_type": "execute_result"
    }
   ],
   "source": [
    "mesh.gridCC[ind_active, 1].shape"
   ]
  },
  {
   "cell_type": "code",
   "execution_count": 393,
   "id": "072f46a7",
   "metadata": {},
   "outputs": [
    {
     "data": {
      "text/plain": [
       "20"
      ]
     },
     "execution_count": 393,
     "metadata": {},
     "output_type": "execute_result"
    }
   ],
   "source": [
    "int(mesh.nCy)"
   ]
  },
  {
   "cell_type": "code",
   "execution_count": 394,
   "id": "4feb0711",
   "metadata": {},
   "outputs": [
    {
     "data": {
      "text/plain": [
       "(8000,)"
      ]
     },
     "execution_count": 394,
     "metadata": {},
     "output_type": "execute_result"
    }
   ],
   "source": [
    "ind_block.shape"
   ]
  },
  {
   "cell_type": "code",
   "execution_count": 395,
   "id": "6023cd88",
   "metadata": {},
   "outputs": [],
   "source": [
    "# Define the forward simulation. By setting the 'store_sensitivities' keyword\n",
    "# argument to \"forward_only\", we simulate the data without storing the sensitivities\n",
    "simulation = magnetics.simulation.Simulation3DIntegral(\n",
    "    survey=survey,\n",
    "    mesh=mesh,\n",
    "    model_type=\"scalar\",\n",
    "    chiMap=model_map,\n",
    "    actInd=ind_active,\n",
    "    store_sensitivities=\"forward_only\",\n",
    ")\n",
    "\n",
    "# Compute predicted data for a susceptibility model\n",
    "dpred = simulation.dpred(model)\n"
   ]
  },
  {
   "cell_type": "code",
   "execution_count": null,
   "id": "eb438c47",
   "metadata": {},
   "outputs": [],
   "source": []
  },
  {
   "cell_type": "code",
   "execution_count": 396,
   "id": "1eb725ab",
   "metadata": {},
   "outputs": [],
   "source": [
    "dobs = dpred\n",
    "receiver_locations = np.c_[x, y, z]\n"
   ]
  },
  {
   "cell_type": "code",
   "execution_count": 397,
   "id": "490bcb48",
   "metadata": {},
   "outputs": [
    {
     "data": {
      "text/plain": [
       "(121,)"
      ]
     },
     "execution_count": 397,
     "metadata": {},
     "output_type": "execute_result"
    }
   ],
   "source": [
    "dobs.shape"
   ]
  },
  {
   "cell_type": "code",
   "execution_count": 398,
   "id": "cd211e5f",
   "metadata": {},
   "outputs": [],
   "source": [
    "receiver_locations\n",
    "rl = receiver_locations"
   ]
  },
  {
   "cell_type": "code",
   "execution_count": 399,
   "id": "92ccc055",
   "metadata": {},
   "outputs": [
    {
     "data": {
      "text/plain": [
       "(121, 3)"
      ]
     },
     "execution_count": 399,
     "metadata": {},
     "output_type": "execute_result"
    }
   ],
   "source": [
    "rl.shape"
   ]
  },
  {
   "cell_type": "code",
   "execution_count": 400,
   "id": "709885cd",
   "metadata": {
    "scrolled": true
   },
   "outputs": [
    {
     "data": {
      "text/plain": [
       "array([ 0.,  0., 10.])"
      ]
     },
     "execution_count": 400,
     "metadata": {},
     "output_type": "execute_result"
    }
   ],
   "source": [
    "rl[60] #centre"
   ]
  },
  {
   "cell_type": "code",
   "execution_count": 401,
   "id": "a2741fc0",
   "metadata": {},
   "outputs": [
    {
     "data": {
      "text/plain": [
       "array([20.,  0., 10.])"
      ]
     },
     "execution_count": 401,
     "metadata": {},
     "output_type": "execute_result"
    }
   ],
   "source": [
    "rl[61] #20m to the right"
   ]
  },
  {
   "cell_type": "code",
   "execution_count": 402,
   "id": "526d3068",
   "metadata": {},
   "outputs": [
    {
     "data": {
      "text/plain": [
       "array([ 0., 20., 10.])"
      ]
     },
     "execution_count": 402,
     "metadata": {},
     "output_type": "execute_result"
    }
   ],
   "source": [
    "rl[71] #20m up"
   ]
  },
  {
   "cell_type": "code",
   "execution_count": 403,
   "id": "5f4a5613",
   "metadata": {},
   "outputs": [
    {
     "data": {
      "text/plain": [
       "array([  0., -20.,  10.])"
      ]
     },
     "execution_count": 403,
     "metadata": {},
     "output_type": "execute_result"
    }
   ],
   "source": [
    "rl[49] #20m up"
   ]
  },
  {
   "cell_type": "code",
   "execution_count": 404,
   "id": "a7559d0c",
   "metadata": {},
   "outputs": [],
   "source": [
    "#remove some values\n",
    "#dobs2 = np.delete(dobs, np.where(condition1)[0])\n",
    "#rl2 = np.delete(rl, np.where(condition1)[0], 0)\n",
    "\n",
    "p1 = [10, 20, 30, 40, 50, 60, 70, 80, 90, 100] #positions, to the far left and far right, decent results\n",
    "\n",
    "p2 = [60-11-1,60-11+1, 60+11-1, 60+11+1] # square around the centre\n",
    "\n",
    "\n",
    "\n",
    "dobs2 = dobs[p1]\n",
    "rl2 = rl[p1]\n",
    "\n"
   ]
  },
  {
   "cell_type": "code",
   "execution_count": 405,
   "id": "d17ef1e6",
   "metadata": {},
   "outputs": [
    {
     "data": {
      "text/plain": [
       "array([[ 100., -100.,   10.],\n",
       "       [  80.,  -80.,   10.],\n",
       "       [  60.,  -60.,   10.],\n",
       "       [  40.,  -40.,   10.],\n",
       "       [  20.,  -20.,   10.],\n",
       "       [   0.,    0.,   10.],\n",
       "       [ -20.,   20.,   10.],\n",
       "       [ -40.,   40.,   10.],\n",
       "       [ -60.,   60.,   10.],\n",
       "       [ -80.,   80.,   10.]])"
      ]
     },
     "execution_count": 405,
     "metadata": {},
     "output_type": "execute_result"
    }
   ],
   "source": [
    "rl2"
   ]
  },
  {
   "cell_type": "code",
   "execution_count": 406,
   "id": "7bb96fc4",
   "metadata": {},
   "outputs": [],
   "source": [
    "#dobs = dobs2\n",
    "#receiver_locations = rl2\n"
   ]
  },
  {
   "cell_type": "code",
   "execution_count": 407,
   "id": "6ccec955",
   "metadata": {},
   "outputs": [
    {
     "data": {
      "text/plain": [
       "array([[-100., -100.,   10.],\n",
       "       [ -80., -100.,   10.],\n",
       "       [ -60., -100.,   10.],\n",
       "       [ -40., -100.,   10.],\n",
       "       [ -20., -100.,   10.],\n",
       "       [   0., -100.,   10.],\n",
       "       [  20., -100.,   10.],\n",
       "       [  40., -100.,   10.],\n",
       "       [  60., -100.,   10.],\n",
       "       [  80., -100.,   10.],\n",
       "       [ 100., -100.,   10.],\n",
       "       [-100.,  -80.,   10.],\n",
       "       [ -80.,  -80.,   10.],\n",
       "       [ -60.,  -80.,   10.],\n",
       "       [ -40.,  -80.,   10.],\n",
       "       [ -20.,  -80.,   10.],\n",
       "       [   0.,  -80.,   10.],\n",
       "       [  20.,  -80.,   10.],\n",
       "       [  40.,  -80.,   10.],\n",
       "       [  60.,  -80.,   10.],\n",
       "       [  80.,  -80.,   10.],\n",
       "       [ 100.,  -80.,   10.],\n",
       "       [-100.,  -60.,   10.],\n",
       "       [ -80.,  -60.,   10.],\n",
       "       [ -60.,  -60.,   10.],\n",
       "       [ -40.,  -60.,   10.],\n",
       "       [ -20.,  -60.,   10.],\n",
       "       [   0.,  -60.,   10.],\n",
       "       [  20.,  -60.,   10.],\n",
       "       [  40.,  -60.,   10.],\n",
       "       [  60.,  -60.,   10.],\n",
       "       [  80.,  -60.,   10.],\n",
       "       [ 100.,  -60.,   10.],\n",
       "       [-100.,  -40.,   10.],\n",
       "       [ -80.,  -40.,   10.],\n",
       "       [ -60.,  -40.,   10.],\n",
       "       [ -40.,  -40.,   10.],\n",
       "       [ -20.,  -40.,   10.],\n",
       "       [   0.,  -40.,   10.],\n",
       "       [  20.,  -40.,   10.],\n",
       "       [  40.,  -40.,   10.],\n",
       "       [  60.,  -40.,   10.],\n",
       "       [  80.,  -40.,   10.],\n",
       "       [ 100.,  -40.,   10.],\n",
       "       [-100.,  -20.,   10.],\n",
       "       [ -80.,  -20.,   10.],\n",
       "       [ -60.,  -20.,   10.],\n",
       "       [ -40.,  -20.,   10.],\n",
       "       [ -20.,  -20.,   10.],\n",
       "       [   0.,  -20.,   10.],\n",
       "       [  20.,  -20.,   10.],\n",
       "       [  40.,  -20.,   10.],\n",
       "       [  60.,  -20.,   10.],\n",
       "       [  80.,  -20.,   10.],\n",
       "       [ 100.,  -20.,   10.],\n",
       "       [-100.,    0.,   10.],\n",
       "       [ -80.,    0.,   10.],\n",
       "       [ -60.,    0.,   10.],\n",
       "       [ -40.,    0.,   10.],\n",
       "       [ -20.,    0.,   10.],\n",
       "       [   0.,    0.,   10.],\n",
       "       [  20.,    0.,   10.],\n",
       "       [  40.,    0.,   10.],\n",
       "       [  60.,    0.,   10.],\n",
       "       [  80.,    0.,   10.],\n",
       "       [ 100.,    0.,   10.],\n",
       "       [-100.,   20.,   10.],\n",
       "       [ -80.,   20.,   10.],\n",
       "       [ -60.,   20.,   10.],\n",
       "       [ -40.,   20.,   10.],\n",
       "       [ -20.,   20.,   10.],\n",
       "       [   0.,   20.,   10.],\n",
       "       [  20.,   20.,   10.],\n",
       "       [  40.,   20.,   10.],\n",
       "       [  60.,   20.,   10.],\n",
       "       [  80.,   20.,   10.],\n",
       "       [ 100.,   20.,   10.],\n",
       "       [-100.,   40.,   10.],\n",
       "       [ -80.,   40.,   10.],\n",
       "       [ -60.,   40.,   10.],\n",
       "       [ -40.,   40.,   10.],\n",
       "       [ -20.,   40.,   10.],\n",
       "       [   0.,   40.,   10.],\n",
       "       [  20.,   40.,   10.],\n",
       "       [  40.,   40.,   10.],\n",
       "       [  60.,   40.,   10.],\n",
       "       [  80.,   40.,   10.],\n",
       "       [ 100.,   40.,   10.],\n",
       "       [-100.,   60.,   10.],\n",
       "       [ -80.,   60.,   10.],\n",
       "       [ -60.,   60.,   10.],\n",
       "       [ -40.,   60.,   10.],\n",
       "       [ -20.,   60.,   10.],\n",
       "       [   0.,   60.,   10.],\n",
       "       [  20.,   60.,   10.],\n",
       "       [  40.,   60.,   10.],\n",
       "       [  60.,   60.,   10.],\n",
       "       [  80.,   60.,   10.],\n",
       "       [ 100.,   60.,   10.],\n",
       "       [-100.,   80.,   10.],\n",
       "       [ -80.,   80.,   10.],\n",
       "       [ -60.,   80.,   10.],\n",
       "       [ -40.,   80.,   10.],\n",
       "       [ -20.,   80.,   10.],\n",
       "       [   0.,   80.,   10.],\n",
       "       [  20.,   80.,   10.],\n",
       "       [  40.,   80.,   10.],\n",
       "       [  60.,   80.,   10.],\n",
       "       [  80.,   80.,   10.],\n",
       "       [ 100.,   80.,   10.],\n",
       "       [-100.,  100.,   10.],\n",
       "       [ -80.,  100.,   10.],\n",
       "       [ -60.,  100.,   10.],\n",
       "       [ -40.,  100.,   10.],\n",
       "       [ -20.,  100.,   10.],\n",
       "       [   0.,  100.,   10.],\n",
       "       [  20.,  100.,   10.],\n",
       "       [  40.,  100.,   10.],\n",
       "       [  60.,  100.,   10.],\n",
       "       [  80.,  100.,   10.],\n",
       "       [ 100.,  100.,   10.]])"
      ]
     },
     "execution_count": 407,
     "metadata": {},
     "output_type": "execute_result"
    }
   ],
   "source": [
    "receiver_locations"
   ]
  },
  {
   "cell_type": "code",
   "execution_count": 408,
   "id": "545c2756",
   "metadata": {},
   "outputs": [
    {
     "data": {
      "image/png": "[encoded data removed]",
      "text/plain": [
       "<Figure size 432x360 with 2 Axes>"
      ]
     },
     "metadata": {
      "needs_background": "light"
     },
     "output_type": "display_data"
    }
   ],
   "source": [
    "\n",
    "#observed data:\n",
    "#dobs = np.loadtxt(str(data_filename))\n",
    "#receiver_locations = dobs[:, 0:3]\n",
    "\n",
    "\n",
    "\n",
    "\n",
    "\n",
    "# Plot\n",
    "fig = plt.figure(figsize=(6, 5))\n",
    "v_max = np.max(np.abs(dobs))\n",
    "\n",
    "ax1 = fig.add_axes([0.1, 0.1, 0.75, 0.85])\n",
    "plot2Ddata(\n",
    "    receiver_locations,\n",
    "    dobs,\n",
    "    ax=ax1,\n",
    "    ncontour=30,\n",
    "    clim=(-v_max, v_max),\n",
    "    contourOpts={\"cmap\": \"bwr\"},\n",
    ")\n",
    "ax1.set_title(\"TMI Anomaly\")\n",
    "ax1.set_xlabel(\"x (m)\")\n",
    "ax1.set_ylabel(\"y (m)\")\n",
    "\n",
    "ax2 = fig.add_axes([0.85, 0.05, 0.05, 0.9])\n",
    "norm = mpl.colors.Normalize(vmin=-np.max(np.abs(dobs)), vmax=np.max(np.abs(dobs)))\n",
    "cbar = mpl.colorbar.ColorbarBase(\n",
    "    ax2, norm=norm, orientation=\"vertical\", cmap=mpl.cm.bwr\n",
    ")\n",
    "cbar.set_label(\"$nT$\", rotation=270, labelpad=15, size=12)\n",
    "\n",
    "plt.show()"
   ]
  },
  {
   "cell_type": "code",
   "execution_count": null,
   "id": "f0bea272",
   "metadata": {},
   "outputs": [],
   "source": []
  },
  {
   "cell_type": "code",
   "execution_count": 409,
   "id": "d2101b6d",
   "metadata": {},
   "outputs": [],
   "source": [
    "maximum_anomaly = np.max(np.abs(dobs))\n",
    "\n",
    "std = 0.02 * maximum_anomaly * np.ones(len(dobs))"
   ]
  },
  {
   "cell_type": "code",
   "execution_count": 410,
   "id": "31059c6b",
   "metadata": {},
   "outputs": [],
   "source": [
    "# Define the component(s) of the field we are inverting as a list. Here we will\n",
    "# invert total magnetic intensity data.\n",
    "components = [\"tmi\"]\n",
    "\n",
    "# Use the observation locations and components to define the receivers. To\n",
    "# simulate data, the receivers must be defined as a list.\n",
    "receiver_list = magnetics.receivers.Point(receiver_locations, components=components)\n",
    "\n",
    "receiver_list = [receiver_list]\n",
    "\n",
    "# Define the inducing field H0 = (intensity [nT], inclination [deg], declination [deg])\n",
    "inclination = 90\n",
    "declination = 0\n",
    "strength = 50000\n",
    "inducing_field = (strength, inclination, declination)\n",
    "\n",
    "source_field = magnetics.sources.SourceField(\n",
    "    receiver_list=receiver_list, parameters=inducing_field\n",
    ")\n",
    "\n",
    "# Define the survey\n",
    "survey = magnetics.survey.Survey(source_field)"
   ]
  },
  {
   "cell_type": "code",
   "execution_count": 411,
   "id": "a95e43b8",
   "metadata": {},
   "outputs": [],
   "source": [
    "data_object = data.Data(survey, dobs=dobs, standard_deviation=std)\n"
   ]
  },
  {
   "cell_type": "code",
   "execution_count": 412,
   "id": "b5376291",
   "metadata": {},
   "outputs": [],
   "source": [
    "# Define background susceptibility model in SI. Don't make this 0!\n",
    "# Otherwise the gradient for the 1st iteration is zero and the inversion will\n",
    "# not converge.\n",
    "background_susceptibility = 1e-4\n",
    "\n",
    "# Find the indecies of the active cells in forward model (ones below surface)\n",
    "ind_active = surface2ind_topo(mesh, topo_xyz)\n",
    "\n",
    "# Define mapping from model to active cells\n",
    "nC = int(ind_active.sum())\n",
    "model_map = maps.IdentityMap(nP=nC)  # model consists of a value for each cell\n",
    "\n",
    "# Define starting model\n",
    "starting_model = background_susceptibility * np.ones(nC)"
   ]
  },
  {
   "cell_type": "code",
   "execution_count": 413,
   "id": "362d4ae4",
   "metadata": {},
   "outputs": [],
   "source": [
    "# Define the problem. Define the cells below topography and the mapping\n",
    "simulation = magnetics.simulation.Simulation3DIntegral(\n",
    "    survey=survey,\n",
    "    mesh=mesh,\n",
    "    model_type=\"scalar\",\n",
    "    chiMap=model_map,\n",
    "    actInd=ind_active,\n",
    ")"
   ]
  },
  {
   "cell_type": "code",
   "execution_count": 414,
   "id": "a92f8bb9",
   "metadata": {},
   "outputs": [],
   "source": [
    "# Define the data misfit. Here the data misfit is the L2 norm of the weighted\n",
    "# residual between the observed data and the data predicted for a given model.\n",
    "# Within the data misfit, the residual between predicted and observed data are\n",
    "# normalized by the data's standard deviation.\n",
    "dmis = data_misfit.L2DataMisfit(data=data_object, simulation=simulation)\n",
    "\n",
    "# Define the regularization (model objective function)\n",
    "reg = regularization.Sparse(\n",
    "    mesh,\n",
    "    indActive=ind_active,\n",
    "    mapping=model_map,\n",
    "    mref=starting_model,\n",
    "    gradientType=\"total\",\n",
    "    alpha_s=1,\n",
    "    alpha_x=1,\n",
    "    alpha_y=1,\n",
    "    alpha_z=1,\n",
    ")\n",
    "\n",
    "# Define sparse and blocky norms p, qx, qy, qz\n",
    "reg.norms = np.c_[0, 2, 2, 2]\n",
    "\n",
    "# Define how the optimization problem is solved. Here we will use a projected\n",
    "# Gauss-Newton approach that employs the conjugate gradient solver.\n",
    "opt = optimization.ProjectedGNCG(\n",
    "    maxIter=10, lower=0.0, upper=1.0, maxIterLS=20, maxIterCG=10, tolCG=1e-3\n",
    ")\n",
    "\n",
    "# Here we define the inverse problem that is to be solved\n",
    "inv_prob = inverse_problem.BaseInvProblem(dmis, reg, opt)"
   ]
  },
  {
   "cell_type": "code",
   "execution_count": 415,
   "id": "db53cb87",
   "metadata": {},
   "outputs": [],
   "source": [
    "# Defining a starting value for the trade-off parameter (beta) between the data\n",
    "# misfit and the regularization.\n",
    "starting_beta = directives.BetaEstimate_ByEig(beta0_ratio=5)\n",
    "\n",
    "# Options for outputting recovered models and predicted data for each beta.\n",
    "save_iteration = directives.SaveOutputEveryIteration(save_txt=False)\n",
    "\n",
    "# Defines the directives for the IRLS regularization. This includes setting\n",
    "# the cooling schedule for the trade-off parameter.\n",
    "update_IRLS = directives.Update_IRLS(\n",
    "    f_min_change=1e-4,\n",
    "    max_irls_iterations=30,\n",
    "    coolEpsFact=1.5,\n",
    "    beta_tol=1e-2,\n",
    ")\n",
    "\n",
    "# Updating the preconditioner if it is model dependent.\n",
    "update_jacobi = directives.UpdatePreconditioner()\n",
    "\n",
    "# Setting a stopping criteria for the inversion.\n",
    "target_misfit = directives.TargetMisfit(chifact=1)\n",
    "\n",
    "# Add sensitivity weights\n",
    "sensitivity_weights = directives.UpdateSensitivityWeights(everyIter=False)\n",
    "\n",
    "# The directives are defined as a list.\n",
    "directives_list = [\n",
    "    sensitivity_weights,\n",
    "    starting_beta,\n",
    "    save_iteration,\n",
    "    update_IRLS,\n",
    "    update_jacobi,\n",
    "]"
   ]
  },
  {
   "cell_type": "code",
   "execution_count": 416,
   "id": "00a52e9a",
   "metadata": {},
   "outputs": [
    {
     "name": "stdout",
     "output_type": "stream",
     "text": [
      "\n",
      "        SimPEG.InvProblem is setting bfgsH0 to the inverse of the eval2Deriv.\n",
      "        ***Done using same Solver and solverOpts as the problem***\n",
      "model has any nan: 0\n",
      "=============================== Projected GNCG ===============================\n",
      "  #     beta     phi_d     phi_m       f      |proj(x-g)-x|  LS    Comment   \n",
      "-----------------------------------------------------------------------------\n",
      "x0 has any nan: 0\n",
      "   0  4.81e+04  8.39e+03  0.00e+00  8.39e+03    8.36e+01      0              \n",
      "   1  2.41e+04  1.30e+02  1.63e-02  5.22e+02    7.50e+01      0              \n",
      "Reached starting chifact with l2-norm regularization: Start IRLS steps...\n",
      "eps_p: 0.0010108399766741126 eps_q: 0.0010108399766741126\n",
      "   2  1.20e+04  4.05e+01  3.34e-02  4.43e+02    4.85e+01      0   Skip BFGS  \n",
      "   3  2.57e+04  2.66e+01  4.81e-02  1.26e+03    4.70e+01      0              \n",
      "   4  1.47e+04  1.54e+02  4.81e-02  8.61e+02    4.90e+01      0              \n",
      "   5  1.08e+04  8.48e+01  5.17e-02  6.42e+02    5.14e+01      0              \n",
      "   6  9.20e+03  6.31e+01  4.55e-02  4.81e+02    5.93e+01      0              \n",
      "   7  1.41e+04  5.73e+01  3.93e-02  6.10e+02    6.96e+01      0   Skip BFGS  \n",
      "   8  1.01e+04  8.80e+01  3.23e-02  4.14e+02    6.28e+01      0              \n",
      "   9  8.78e+03  6.12e+01  3.08e-02  3.31e+02    7.95e+01      0              \n",
      "  10  1.43e+04  4.84e+01  2.88e-02  4.60e+02    8.03e+01      0   Skip BFGS  \n",
      "------------------------- STOP! -------------------------\n",
      "1 : |fc-fOld| = 1.2828e+02 <= tolF*(1+|f0|) = 8.3915e+02\n",
      "1 : |xc-x_last| = 2.6570e-03 <= tolX*(1+|x0|) = 1.0089e-01\n",
      "0 : |proj(x-g)-x|    = 8.0345e+01 <= tolG          = 1.0000e-01\n",
      "0 : |proj(x-g)-x|    = 8.0345e+01 <= 1e3*eps       = 1.0000e-02\n",
      "1 : maxIter   =      10    <= iter          =     10\n",
      "------------------------- DONE! -------------------------\n"
     ]
    }
   ],
   "source": [
    "# Here we combine the inverse problem and the set of directives\n",
    "inv = inversion.BaseInversion(inv_prob, directives_list)\n",
    "\n",
    "# Print target misfit to compare with convergence\n",
    "# print(\"Target misfit is \" + str(target_misfit.target))\n",
    "\n",
    "# Run the inversion\n",
    "recovered_model = inv.run(starting_model)"
   ]
  },
  {
   "cell_type": "code",
   "execution_count": 417,
   "id": "0230fa33",
   "metadata": {},
   "outputs": [
    {
     "data": {
      "text/plain": [
       "'\\nbackground_susceptibility * np.ones(nC)\\nind_sphere = model_builder.getIndicesSphere(\\n    np.r_[0.0, 0.0, -45.0], 15.0, mesh.cell_centers\\n)\\nind_sphere = ind_sphere[ind_active]\\ntrue_model[ind_sphere] = sphere_susceptibility\\n'"
      ]
     },
     "execution_count": 417,
     "metadata": {},
     "output_type": "execute_result"
    }
   ],
   "source": [
    "background_susceptibility = 0.0001\n",
    "sphere_susceptibility = 0.01\n",
    "\n",
    "true_model = model\n",
    "\"\"\"\n",
    "background_susceptibility * np.ones(nC)\n",
    "ind_sphere = model_builder.getIndicesSphere(\n",
    "    np.r_[0.0, 0.0, -45.0], 15.0, mesh.cell_centers\n",
    ")\n",
    "ind_sphere = ind_sphere[ind_active]\n",
    "true_model[ind_sphere] = sphere_susceptibility\n",
    "\"\"\""
   ]
  },
  {
   "cell_type": "code",
   "execution_count": 418,
   "id": "203bf172",
   "metadata": {
    "scrolled": false
   },
   "outputs": [
    {
     "data": {
      "image/png": "[encoded data removed]",
      "text/plain": [
       "<Figure size 648x288 with 2 Axes>"
      ]
     },
     "metadata": {
      "needs_background": "light"
     },
     "output_type": "display_data"
    },
    {
     "data": {
      "image/png": "[encoded data removed]",
      "text/plain": [
       "<Figure size 648x288 with 2 Axes>"
      ]
     },
     "metadata": {
      "needs_background": "light"
     },
     "output_type": "display_data"
    },
    {
     "name": "stdout",
     "output_type": "stream",
     "text": [
      "RMS is: 0.0007481911608700375\n"
     ]
    }
   ],
   "source": [
    "# Plot True Model\n",
    "fig = plt.figure(figsize=(9, 4))\n",
    "plotting_map = maps.InjectActiveCells(mesh, ind_active, np.nan)\n",
    "\n",
    "ax1 = fig.add_axes([0.08, 0.1, 0.75, 0.8])\n",
    "mesh.plotSlice(\n",
    "    plotting_map * true_model,\n",
    "    normal=\"Y\",\n",
    "    ax=ax1,\n",
    "    ind=int(mesh.nCy / 2),\n",
    "    grid=True,\n",
    "    clim=(np.min(true_model), np.max(true_model)),\n",
    "    pcolorOpts={\"cmap\": \"viridis\"},\n",
    ")\n",
    "ax1.set_title(\"Model slice at y = 0 m\")\n",
    "\n",
    "ax2 = fig.add_axes([0.85, 0.1, 0.05, 0.8])\n",
    "norm = mpl.colors.Normalize(vmin=np.min(true_model), vmax=np.max(true_model))\n",
    "cbar = mpl.colorbar.ColorbarBase(\n",
    "    ax2, norm=norm, orientation=\"vertical\", cmap=mpl.cm.viridis, format=\"%.1e\"\n",
    ")\n",
    "cbar.set_label(\"SI\", rotation=270, labelpad=15, size=12)\n",
    "\n",
    "plt.show()\n",
    "\n",
    "# Plot Recovered Model\n",
    "fig = plt.figure(figsize=(9, 4))\n",
    "plotting_map = maps.InjectActiveCells(mesh, ind_active, np.nan)\n",
    "\n",
    "ax1 = fig.add_axes([0.08, 0.1, 0.75, 0.8])\n",
    "mesh.plotSlice(\n",
    "    plotting_map * recovered_model,\n",
    "    normal=\"Y\",\n",
    "    ax=ax1,\n",
    "    ind=int(mesh.nCy / 2),\n",
    "    grid=True,\n",
    "    clim=(np.min(recovered_model), np.max(recovered_model)),\n",
    "    pcolorOpts={\"cmap\": \"viridis\"},\n",
    ")\n",
    "ax1.set_title(\"Model slice at y = 0 m\")\n",
    "\n",
    "ax2 = fig.add_axes([0.85, 0.1, 0.05, 0.8])\n",
    "norm = mpl.colors.Normalize(vmin=np.min(recovered_model), vmax=np.max(recovered_model))\n",
    "cbar = mpl.colorbar.ColorbarBase(\n",
    "    ax2, norm=norm, orientation=\"vertical\", cmap=mpl.cm.viridis, format=\"%.1e\"\n",
    ")\n",
    "cbar.set_label(\"SI\", rotation=270, labelpad=15, size=12)\n",
    "\n",
    "RMS1 = RMS(true_model, recovered_model) \n",
    "#there are some positions which work better than others...\n",
    "#although RMS may be misleading in some cases\n",
    "\n",
    "plt.show()\n",
    "print(\"RMS is: \" + str(RMS1))"
   ]
  },
  {
   "cell_type": "code",
   "execution_count": 376,
   "id": "d66c2fa5",
   "metadata": {},
   "outputs": [
    {
     "data": {
      "text/plain": [
       "(8000,)"
      ]
     },
     "execution_count": 376,
     "metadata": {},
     "output_type": "execute_result"
    }
   ],
   "source": [
    "true_model.shape #0.0025"
   ]
  },
  {
   "cell_type": "code",
   "execution_count": 377,
   "id": "318bee0e",
   "metadata": {},
   "outputs": [
    {
     "data": {
      "text/plain": [
       "(8000,)"
      ]
     },
     "execution_count": 377,
     "metadata": {},
     "output_type": "execute_result"
    }
   ],
   "source": [
    "recovered_model.shape"
   ]
  },
  {
   "cell_type": "code",
   "execution_count": 378,
   "id": "6115abfa",
   "metadata": {},
   "outputs": [
    {
     "data": {
      "text/plain": [
       "10"
      ]
     },
     "execution_count": 378,
     "metadata": {},
     "output_type": "execute_result"
    }
   ],
   "source": [
    "int(mesh.nCy / 2)"
   ]
  },
  {
   "cell_type": "code",
   "execution_count": 379,
   "id": "ed742af1",
   "metadata": {},
   "outputs": [
    {
     "data": {
      "text/plain": [
       "20"
      ]
     },
     "execution_count": 379,
     "metadata": {},
     "output_type": "execute_result"
    }
   ],
   "source": [
    "mesh.nCy"
   ]
  },
  {
   "cell_type": "code",
   "execution_count": 380,
   "id": "8f30862f",
   "metadata": {},
   "outputs": [
    {
     "data": {
      "image/png": "[encoded data removed]",
      "text/plain": [
       "<Figure size 1224x288 with 6 Axes>"
      ]
     },
     "metadata": {
      "needs_background": "light"
     },
     "output_type": "display_data"
    }
   ],
   "source": [
    "# Predicted data with final recovered model\n",
    "dpred = inv_prob.dpred\n",
    "\n",
    "# Observed data | Predicted data | Normalized data misfit\n",
    "data_array = np.c_[dobs, dpred, (dobs - dpred) / std]\n",
    "\n",
    "fig = plt.figure(figsize=(17, 4))\n",
    "plot_title = [\"Observed\", \"Predicted\", \"Normalized Misfit\"]\n",
    "plot_units = [\"nT\", \"nT\", \"\"]\n",
    "\n",
    "ax1 = 3 * [None]\n",
    "ax2 = 3 * [None]\n",
    "norm = 3 * [None]\n",
    "cbar = 3 * [None]\n",
    "cplot = 3 * [None]\n",
    "v_lim = [np.max(np.abs(dobs)), np.max(np.abs(dobs)), np.max(np.abs(data_array[:, 2]))]\n",
    "\n",
    "for ii in range(0, 3):\n",
    "\n",
    "    ax1[ii] = fig.add_axes([0.33 * ii + 0.03, 0.11, 0.25, 0.84])\n",
    "    cplot[ii] = plot2Ddata(\n",
    "        receiver_list[0].locations,\n",
    "        data_array[:, ii],\n",
    "        ax=ax1[ii],\n",
    "        ncontour=30,\n",
    "        clim=(-v_lim[ii], v_lim[ii]),\n",
    "        contourOpts={\"cmap\": \"bwr\"},\n",
    "    )\n",
    "    ax1[ii].set_title(plot_title[ii])\n",
    "    ax1[ii].set_xlabel(\"x (m)\")\n",
    "    ax1[ii].set_ylabel(\"y (m)\")\n",
    "\n",
    "    ax2[ii] = fig.add_axes([0.33 * ii + 0.27, 0.11, 0.01, 0.84])\n",
    "    norm[ii] = mpl.colors.Normalize(vmin=-v_lim[ii], vmax=v_lim[ii])\n",
    "    cbar[ii] = mpl.colorbar.ColorbarBase(\n",
    "        ax2[ii], norm=norm[ii], orientation=\"vertical\", cmap=mpl.cm.bwr\n",
    "    )\n",
    "    cbar[ii].set_label(plot_units[ii], rotation=270, labelpad=15, size=12)\n",
    "\n",
    "plt.show()"
   ]
  },
  {
   "cell_type": "code",
   "execution_count": null,
   "id": "7506f974",
   "metadata": {},
   "outputs": [],
   "source": []
  },
  {
   "cell_type": "code",
   "execution_count": null,
   "id": "b3c694e1",
   "metadata": {},
   "outputs": [],
   "source": []
  },
  {
   "cell_type": "code",
   "execution_count": null,
   "id": "168063f9",
   "metadata": {},
   "outputs": [],
   "source": []
  }
 ],
 "metadata": {
  "kernelspec": {
   "display_name": "Python 3 (ipykernel)",
   "language": "python",
   "name": "python3"
  },
  "language_info": {
   "codemirror_mode": {
    "name": "ipython",
    "version": 3
   },
   "file_extension": ".py",
   "mimetype": "text/x-python",
   "name": "python",
   "nbconvert_exporter": "python",
   "pygments_lexer": "ipython3",
   "version": "3.9.12"
  }
 },
 "nbformat": 4,
 "nbformat_minor": 5
}
