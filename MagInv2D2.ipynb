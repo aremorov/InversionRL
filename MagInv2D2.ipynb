{
 "cells": [
  {
   "cell_type": "markdown",
   "id": "f1a7a66b",
   "metadata": {},
   "source": [
    "# 2D subsurface so 1D survey, 2D inversion\n",
    "\n",
    "## vary removing survey data at different points and see how relatively good/bad the inversion is "
   ]
  },
  {
   "cell_type": "code",
   "execution_count": 530,
   "id": "e61a65aa",
   "metadata": {},
   "outputs": [],
   "source": [
    "import os\n",
    "import numpy as np\n",
    "import matplotlib as mpl\n",
    "import matplotlib.pyplot as plt\n",
    "import tarfile\n",
    "from discretize.utils import mkvc\n",
    "from scipy.interpolate import LinearNDInterpolator\n",
    "\n",
    "\n",
    "from discretize import TensorMesh\n",
    "\n",
    "from SimPEG.potential_fields import magnetics\n",
    "from SimPEG.utils import plot2Ddata, surface2ind_topo, model_builder\n",
    "from SimPEG import (\n",
    "    maps,\n",
    "    data,\n",
    "    inverse_problem,\n",
    "    data_misfit,\n",
    "    regularization,\n",
    "    optimization,\n",
    "    directives,\n",
    "    inversion,\n",
    "    utils,\n",
    ")\n",
    "\n",
    "# sphinx_gallery_thumbnail_number = 3"
   ]
  },
  {
   "cell_type": "code",
   "execution_count": 531,
   "id": "94808f9c",
   "metadata": {},
   "outputs": [],
   "source": [
    "# storage bucket where we have the data\n",
    "#data_source = \"https://storage.googleapis.com/simpeg/doc-assets/magnetics.tar.gz\"\n",
    "\n",
    "# download the data\n",
    "#downloaded_data = utils.download(data_source, overwrite=True)\n",
    "\n",
    "# unzip the tarfile\n",
    "#tar = tarfile.open(downloaded_data, \"r\")\n",
    "#tar.extractall()\n",
    "#tar.close()\n",
    "\n",
    "# path to the directory containing our data\n",
    "#dir_path = downloaded_data.split(\".\")[0] + os.path.sep\n",
    "\n",
    "# files to work with\n",
    "#topo_filename = dir_path + \"magnetics_topo.txt\"\n",
    "#data_filename = dir_path + \"magnetics_data.obs\""
   ]
  },
  {
   "cell_type": "code",
   "execution_count": 532,
   "id": "3f203266",
   "metadata": {},
   "outputs": [
    {
     "data": {
      "text/plain": [
       "array([[-200., -200.,    0.],\n",
       "       [-200., -190.,    0.],\n",
       "       [-200., -180.,    0.],\n",
       "       ...,\n",
       "       [ 200.,  180.,    0.],\n",
       "       [ 200.,  190.,    0.],\n",
       "       [ 200.,  200.,    0.]])"
      ]
     },
     "execution_count": 532,
     "metadata": {},
     "output_type": "execute_result"
    }
   ],
   "source": [
    "#topo_xyz = np.loadtxt(str(topo_filename))\n",
    "[x_topo, y_topo] = np.meshgrid(np.linspace(-200, 200, 41), np.linspace(-200, 200, 41))\n",
    "z_topo = np.zeros(len(x_topo)*len(y_topo)) #-15 * np.exp(-(x_topo ** 2 + y_topo ** 2) / 80 ** 2)\n",
    "x_topo, y_topo, z_topo = mkvc(x_topo), mkvc(y_topo), mkvc(z_topo)\n",
    "topo_xyz = np.c_[x_topo, y_topo, z_topo]\n",
    "topo_xyz\n"
   ]
  },
  {
   "cell_type": "code",
   "execution_count": 533,
   "id": "2c9adadf",
   "metadata": {},
   "outputs": [
    {
     "data": {
      "text/plain": [
       "<matplotlib.colorbar.Colorbar at 0x7fcda0367d30>"
      ]
     },
     "execution_count": 533,
     "metadata": {},
     "output_type": "execute_result"
    },
    {
     "data": {
      "image/png": "[encoded data removed]",
      "text/plain": [
       "<Figure size 432x288 with 2 Axes>"
      ]
     },
     "metadata": {
      "needs_background": "light"
     },
     "output_type": "display_data"
    }
   ],
   "source": [
    "plt.imshow(z_topo.reshape(41,41))\n",
    "plt.colorbar()"
   ]
  },
  {
   "cell_type": "code",
   "execution_count": 534,
   "id": "e64ca0ec",
   "metadata": {},
   "outputs": [
    {
     "data": {
      "text/plain": [
       "(1681, 3)"
      ]
     },
     "execution_count": 534,
     "metadata": {},
     "output_type": "execute_result"
    }
   ],
   "source": [
    "topo_xyz.shape"
   ]
  },
  {
   "cell_type": "code",
   "execution_count": 535,
   "id": "947ab739",
   "metadata": {},
   "outputs": [],
   "source": [
    "# Define the observation locations as an (N, 3) numpy array or load them.\n",
    "x = np.linspace(-80.0, 80.0, 17)\n",
    "y = np.linspace(-20.0, 20.0, 2)\n",
    "x, y = np.meshgrid(x, y)\n",
    "x, y = mkvc(x.T), mkvc(y.T)\n",
    "fun_interp = LinearNDInterpolator(np.c_[x_topo, y_topo], z_topo)\n",
    "z = fun_interp(np.c_[x, y]) + 10  # Flight height 10 m above surface.\n",
    "receiver_locations = np.c_[x, y, z]\n",
    "\n",
    "# Define the component(s) of the field we want to simulate as a list of strings.\n",
    "# Here we simulation total magnetic intensity data.\n",
    "components = [\"tmi\"]\n",
    "\n",
    "# Use the observation locations and components to define the receivers. To\n",
    "# simulate data, the receivers must be defined as a list.\n",
    "receiver_list = magnetics.receivers.Point(receiver_locations, components=components)\n",
    "\n",
    "receiver_list = [receiver_list]\n",
    "\n",
    "# Define the inducing field H0 = (intensity [nT], inclination [deg], declination [deg])\n",
    "inclination = 90\n",
    "declination = 0\n",
    "strength = 50000\n",
    "inducing_field = (strength, inclination, declination)\n",
    "\n",
    "source_field = magnetics.sources.SourceField(\n",
    "    receiver_list=receiver_list, parameters=inducing_field\n",
    ")\n",
    "\n",
    "# Define the survey\n",
    "survey = magnetics.survey.Survey(source_field)"
   ]
  },
  {
   "cell_type": "code",
   "execution_count": 536,
   "id": "c1f032f8",
   "metadata": {},
   "outputs": [],
   "source": [
    "dh = 5.0\n",
    "hx = [(dh, 5, -1.3), (dh, 40), (dh, 5, 1.3)]\n",
    "hy = [(dh, 2)]\n",
    "hz = [(dh, 5, -1.3), (dh, 15)]\n",
    "mesh = TensorMesh([hx, hy, hz], \"CCN\")"
   ]
  },
  {
   "cell_type": "code",
   "execution_count": 537,
   "id": "80b3309e",
   "metadata": {
    "scrolled": false
   },
   "outputs": [
    {
     "data": {
      "image/png": "[encoded data removed]",
      "text/plain": [
       "<Figure size 648x288 with 2 Axes>"
      ]
     },
     "metadata": {
      "needs_background": "light"
     },
     "output_type": "display_data"
    }
   ],
   "source": [
    "# Define susceptibility values for each unit in SI\n",
    "background_susceptibility = 0.0001\n",
    "sphere_susceptibility = 0.01\n",
    "\n",
    "# Find cells that are active in the forward modeling (cells below surface)\n",
    "ind_active = surface2ind_topo(mesh, topo_xyz)\n",
    "\n",
    "# Define mapping from model to active cells\n",
    "nC = int(ind_active.sum())\n",
    "model_map = maps.IdentityMap(nP=nC)  # model is a vlue for each active cell\n",
    "\n",
    "# Define model. Models in SimPEG are vector arrays\n",
    "model = background_susceptibility * np.ones(ind_active.sum())\n",
    "ind_sphere = model_builder.getIndicesSphere(\n",
    "    np.r_[0.0, 0.0, -45.0], 15.0, mesh.cell_centers\n",
    ")\n",
    "\n",
    "ind_block = (\n",
    "    (mesh.gridCC[ind_active, 0] > -20.0) #x\n",
    "    & (mesh.gridCC[ind_active, 0] < 20.0)\n",
    "    & (mesh.gridCC[ind_active, 1] > -30.0) #y\n",
    "    & (mesh.gridCC[ind_active, 1] < 30.0)\n",
    "    & (mesh.gridCC[ind_active, 2] > -60.0) #z\n",
    "    & (mesh.gridCC[ind_active, 2] < -40.0)\n",
    ")\n",
    "\n",
    "ind_sphere = ind_sphere[ind_active]\n",
    "\n",
    "model[ind_block] = sphere_susceptibility\n",
    "\n",
    "\n",
    "\n",
    "# Plot Model\n",
    "fig = plt.figure(figsize=(9, 4))\n",
    "\n",
    "plotting_map = maps.InjectActiveCells(mesh, ind_active, np.nan)\n",
    "ax1 = fig.add_axes([0.1, 0.12, 0.73, 0.78])\n",
    "mesh.plotSlice(\n",
    "    plotting_map * model,\n",
    "    normal=\"Y\",\n",
    "    ax=ax1,\n",
    "    ind=int(mesh.nCy / 2),\n",
    "    grid=True,\n",
    "    clim=(np.min(model), np.max(model)),\n",
    ")\n",
    "ax1.set_title(\"Model slice at y = 0 m\")\n",
    "ax1.set_xlabel(\"x (m)\")\n",
    "ax1.set_ylabel(\"z (m)\")\n",
    "\n",
    "ax2 = fig.add_axes([0.85, 0.12, 0.05, 0.78])\n",
    "norm = mpl.colors.Normalize(vmin=np.min(model), vmax=np.max(model))\n",
    "cbar = mpl.colorbar.ColorbarBase(ax2, norm=norm, orientation=\"vertical\")\n",
    "cbar.set_label(\"Magnetic Susceptibility (SI)\", rotation=270, labelpad=15, size=12)\n",
    "\n",
    "plt.show()"
   ]
  },
  {
   "cell_type": "code",
   "execution_count": 538,
   "id": "4feb0711",
   "metadata": {},
   "outputs": [
    {
     "data": {
      "text/plain": [
       "(2000,)"
      ]
     },
     "execution_count": 538,
     "metadata": {},
     "output_type": "execute_result"
    }
   ],
   "source": [
    "ind_sphere.shape"
   ]
  },
  {
   "cell_type": "code",
   "execution_count": 539,
   "id": "6023cd88",
   "metadata": {},
   "outputs": [],
   "source": [
    "# Define the forward simulation. By setting the 'store_sensitivities' keyword\n",
    "# argument to \"forward_only\", we simulate the data without storing the sensitivities\n",
    "simulation = magnetics.simulation.Simulation3DIntegral(\n",
    "    survey=survey,\n",
    "    mesh=mesh,\n",
    "    model_type=\"scalar\",\n",
    "    chiMap=model_map,\n",
    "    actInd=ind_active,\n",
    "    store_sensitivities=\"forward_only\",\n",
    ")\n",
    "\n",
    "# Compute predicted data for a susceptibility model\n",
    "dpred = simulation.dpred(model)\n"
   ]
  },
  {
   "cell_type": "code",
   "execution_count": null,
   "id": "eb438c47",
   "metadata": {},
   "outputs": [],
   "source": []
  },
  {
   "cell_type": "code",
   "execution_count": 540,
   "id": "1eb725ab",
   "metadata": {},
   "outputs": [],
   "source": [
    "dobs = dpred\n",
    "receiver_locations = np.c_[x, y, z]\n"
   ]
  },
  {
   "cell_type": "code",
   "execution_count": 541,
   "id": "490bcb48",
   "metadata": {},
   "outputs": [
    {
     "data": {
      "text/plain": [
       "(34,)"
      ]
     },
     "execution_count": 541,
     "metadata": {},
     "output_type": "execute_result"
    }
   ],
   "source": [
    "dobs.shape"
   ]
  },
  {
   "cell_type": "code",
   "execution_count": 542,
   "id": "629a546a",
   "metadata": {},
   "outputs": [],
   "source": [
    "receiver_locations\n",
    "rl = receiver_locations"
   ]
  },
  {
   "cell_type": "code",
   "execution_count": 543,
   "id": "c281ae52",
   "metadata": {},
   "outputs": [
    {
     "data": {
      "text/plain": [
       "array([[-80., -20.,  10.],\n",
       "       [-70., -20.,  10.],\n",
       "       [-60., -20.,  10.],\n",
       "       [-50., -20.,  10.],\n",
       "       [-40., -20.,  10.],\n",
       "       [-30., -20.,  10.],\n",
       "       [-20., -20.,  10.],\n",
       "       [-10., -20.,  10.],\n",
       "       [  0., -20.,  10.],\n",
       "       [ 10., -20.,  10.],\n",
       "       [ 20., -20.,  10.],\n",
       "       [ 30., -20.,  10.],\n",
       "       [ 40., -20.,  10.],\n",
       "       [ 50., -20.,  10.],\n",
       "       [ 60., -20.,  10.],\n",
       "       [ 70., -20.,  10.],\n",
       "       [ 80., -20.,  10.],\n",
       "       [-80.,  20.,  10.],\n",
       "       [-70.,  20.,  10.],\n",
       "       [-60.,  20.,  10.],\n",
       "       [-50.,  20.,  10.],\n",
       "       [-40.,  20.,  10.],\n",
       "       [-30.,  20.,  10.],\n",
       "       [-20.,  20.,  10.],\n",
       "       [-10.,  20.,  10.],\n",
       "       [  0.,  20.,  10.],\n",
       "       [ 10.,  20.,  10.],\n",
       "       [ 20.,  20.,  10.],\n",
       "       [ 30.,  20.,  10.],\n",
       "       [ 40.,  20.,  10.],\n",
       "       [ 50.,  20.,  10.],\n",
       "       [ 60.,  20.,  10.],\n",
       "       [ 70.,  20.,  10.],\n",
       "       [ 80.,  20.,  10.]])"
      ]
     },
     "execution_count": 543,
     "metadata": {},
     "output_type": "execute_result"
    }
   ],
   "source": [
    "rl"
   ]
  },
  {
   "cell_type": "code",
   "execution_count": 544,
   "id": "604a1177",
   "metadata": {},
   "outputs": [
    {
     "data": {
      "text/plain": [
       "array([[-50., -20.,  10.],\n",
       "       [-50.,  20.,  10.],\n",
       "       [-20., -20.,  10.],\n",
       "       [-20.,  20.,  10.],\n",
       "       [ 40., -20.,  10.],\n",
       "       [ 40.,  20.,  10.]])"
      ]
     },
     "execution_count": 544,
     "metadata": {},
     "output_type": "execute_result"
    }
   ],
   "source": [
    "rl[[0,17,2,19, 3, 20]] #choose 3 survey positions\n",
    "rl[[3,20,6,23, 12, 29]] #choose 3 survey positions"
   ]
  },
  {
   "cell_type": "code",
   "execution_count": 545,
   "id": "a7559d0c",
   "metadata": {},
   "outputs": [],
   "source": [
    "#remove some values\n",
    "#dobs2 = np.delete(dobs, np.where(condition1)[0])\n",
    "#rl2 = np.delete(rl, np.where(condition1)[0], 0)\n",
    "\n",
    "p1 = [0,17,2,19, 14, 31, 16, 33] #positions, to the far left and far right, decent results\n",
    "\n",
    "p2 = [4,21, 5, 22,6,23, 7, 24] # points close to centre\n",
    "\n",
    "p3  = [0,17,5,22, 10, 27, 16, 33]\n",
    "\n",
    "dobs2 = dobs[p1]\n",
    "rl2 = rl[p1]"
   ]
  },
  {
   "cell_type": "code",
   "execution_count": 546,
   "id": "7e309c5d",
   "metadata": {},
   "outputs": [
    {
     "data": {
      "text/plain": [
       "array([[-80., -20.,  10.],\n",
       "       [-80.,  20.,  10.],\n",
       "       [-60., -20.,  10.],\n",
       "       [-60.,  20.,  10.],\n",
       "       [ 60., -20.,  10.],\n",
       "       [ 60.,  20.,  10.],\n",
       "       [ 80., -20.,  10.],\n",
       "       [ 80.,  20.,  10.]])"
      ]
     },
     "execution_count": 546,
     "metadata": {},
     "output_type": "execute_result"
    }
   ],
   "source": [
    "rl2"
   ]
  },
  {
   "cell_type": "code",
   "execution_count": 547,
   "id": "7bb96fc4",
   "metadata": {},
   "outputs": [],
   "source": [
    "dobs = dobs2\n",
    "receiver_locations = rl2\n"
   ]
  },
  {
   "cell_type": "code",
   "execution_count": 548,
   "id": "4eb816fe",
   "metadata": {},
   "outputs": [
    {
     "data": {
      "text/plain": [
       "array([[-80., -20.,  10.],\n",
       "       [-80.,  20.,  10.],\n",
       "       [-60., -20.,  10.],\n",
       "       [-60.,  20.,  10.],\n",
       "       [ 60., -20.,  10.],\n",
       "       [ 60.,  20.,  10.],\n",
       "       [ 80., -20.,  10.],\n",
       "       [ 80.,  20.,  10.]])"
      ]
     },
     "execution_count": 548,
     "metadata": {},
     "output_type": "execute_result"
    }
   ],
   "source": [
    "receiver_locations"
   ]
  },
  {
   "cell_type": "code",
   "execution_count": 549,
   "id": "545c2756",
   "metadata": {},
   "outputs": [
    {
     "data": {
      "image/png": "[encoded data removed]",
      "text/plain": [
       "<Figure size 432x360 with 2 Axes>"
      ]
     },
     "metadata": {
      "needs_background": "light"
     },
     "output_type": "display_data"
    }
   ],
   "source": [
    "\n",
    "#observed data:\n",
    "#dobs = np.loadtxt(str(data_filename))\n",
    "#receiver_locations = dobs[:, 0:3]\n",
    "\n",
    "\n",
    "\n",
    "\n",
    "\n",
    "# Plot\n",
    "fig = plt.figure(figsize=(6, 5))\n",
    "v_max = np.max(np.abs(dobs))\n",
    "\n",
    "ax1 = fig.add_axes([0.1, 0.1, 0.75, 0.85])\n",
    "plot2Ddata(\n",
    "    receiver_locations,\n",
    "    dobs,\n",
    "    ax=ax1,\n",
    "    ncontour=30,\n",
    "    clim=(-v_max, v_max),\n",
    "    contourOpts={\"cmap\": \"bwr\"},\n",
    ")\n",
    "ax1.set_title(\"TMI Anomaly\")\n",
    "ax1.set_xlabel(\"x (m)\")\n",
    "ax1.set_ylabel(\"y (m)\")\n",
    "\n",
    "ax2 = fig.add_axes([0.85, 0.05, 0.05, 0.9])\n",
    "norm = mpl.colors.Normalize(vmin=-np.max(np.abs(dobs)), vmax=np.max(np.abs(dobs)))\n",
    "cbar = mpl.colorbar.ColorbarBase(\n",
    "    ax2, norm=norm, orientation=\"vertical\", cmap=mpl.cm.bwr\n",
    ")\n",
    "cbar.set_label(\"$nT$\", rotation=270, labelpad=15, size=12)\n",
    "\n",
    "plt.show()"
   ]
  },
  {
   "cell_type": "code",
   "execution_count": null,
   "id": "f0bea272",
   "metadata": {},
   "outputs": [],
   "source": []
  },
  {
   "cell_type": "code",
   "execution_count": 550,
   "id": "d2101b6d",
   "metadata": {},
   "outputs": [],
   "source": [
    "maximum_anomaly = np.max(np.abs(dobs))\n",
    "\n",
    "std = 0.02 * maximum_anomaly * np.ones(len(dobs))"
   ]
  },
  {
   "cell_type": "code",
   "execution_count": 551,
   "id": "31059c6b",
   "metadata": {},
   "outputs": [],
   "source": [
    "# Define the component(s) of the field we are inverting as a list. Here we will\n",
    "# invert total magnetic intensity data.\n",
    "components = [\"tmi\"]\n",
    "\n",
    "# Use the observation locations and components to define the receivers. To\n",
    "# simulate data, the receivers must be defined as a list.\n",
    "receiver_list = magnetics.receivers.Point(receiver_locations, components=components)\n",
    "\n",
    "receiver_list = [receiver_list]\n",
    "\n",
    "# Define the inducing field H0 = (intensity [nT], inclination [deg], declination [deg])\n",
    "inclination = 90\n",
    "declination = 0\n",
    "strength = 50000\n",
    "inducing_field = (strength, inclination, declination)\n",
    "\n",
    "source_field = magnetics.sources.SourceField(\n",
    "    receiver_list=receiver_list, parameters=inducing_field\n",
    ")\n",
    "\n",
    "# Define the survey\n",
    "survey = magnetics.survey.Survey(source_field)"
   ]
  },
  {
   "cell_type": "code",
   "execution_count": 552,
   "id": "a95e43b8",
   "metadata": {},
   "outputs": [],
   "source": [
    "data_object = data.Data(survey, dobs=dobs, standard_deviation=std)\n"
   ]
  },
  {
   "cell_type": "code",
   "execution_count": 553,
   "id": "b5376291",
   "metadata": {},
   "outputs": [],
   "source": [
    "# Define background susceptibility model in SI. Don't make this 0!\n",
    "# Otherwise the gradient for the 1st iteration is zero and the inversion will\n",
    "# not converge.\n",
    "background_susceptibility = 1e-4\n",
    "\n",
    "# Find the indecies of the active cells in forward model (ones below surface)\n",
    "ind_active = surface2ind_topo(mesh, topo_xyz)\n",
    "\n",
    "# Define mapping from model to active cells\n",
    "nC = int(ind_active.sum())\n",
    "model_map = maps.IdentityMap(nP=nC)  # model consists of a value for each cell\n",
    "\n",
    "# Define starting model\n",
    "starting_model = background_susceptibility * np.ones(nC)"
   ]
  },
  {
   "cell_type": "code",
   "execution_count": 554,
   "id": "362d4ae4",
   "metadata": {},
   "outputs": [],
   "source": [
    "# Define the problem. Define the cells below topography and the mapping\n",
    "simulation = magnetics.simulation.Simulation3DIntegral(\n",
    "    survey=survey,\n",
    "    mesh=mesh,\n",
    "    model_type=\"scalar\",\n",
    "    chiMap=model_map,\n",
    "    actInd=ind_active,\n",
    ")"
   ]
  },
  {
   "cell_type": "code",
   "execution_count": 555,
   "id": "a92f8bb9",
   "metadata": {},
   "outputs": [],
   "source": [
    "# Define the data misfit. Here the data misfit is the L2 norm of the weighted\n",
    "# residual between the observed data and the data predicted for a given model.\n",
    "# Within the data misfit, the residual between predicted and observed data are\n",
    "# normalized by the data's standard deviation.\n",
    "dmis = data_misfit.L2DataMisfit(data=data_object, simulation=simulation)\n",
    "\n",
    "# Define the regularization (model objective function)\n",
    "reg = regularization.Sparse(\n",
    "    mesh,\n",
    "    indActive=ind_active,\n",
    "    mapping=model_map,\n",
    "    mref=starting_model,\n",
    "    gradientType=\"total\",\n",
    "    alpha_s=1,\n",
    "    alpha_x=1,\n",
    "    alpha_y=1,\n",
    "    alpha_z=1,\n",
    ")\n",
    "\n",
    "# Define sparse and blocky norms p, qx, qy, qz\n",
    "reg.norms = np.c_[0, 2, 2, 2]\n",
    "\n",
    "# Define how the optimization problem is solved. Here we will use a projected\n",
    "# Gauss-Newton approach that employs the conjugate gradient solver.\n",
    "opt = optimization.ProjectedGNCG(\n",
    "    maxIter=10, lower=0.0, upper=1.0, maxIterLS=20, maxIterCG=10, tolCG=1e-3\n",
    ")\n",
    "\n",
    "# Here we define the inverse problem that is to be solved\n",
    "inv_prob = inverse_problem.BaseInvProblem(dmis, reg, opt)"
   ]
  },
  {
   "cell_type": "code",
   "execution_count": 556,
   "id": "db53cb87",
   "metadata": {},
   "outputs": [],
   "source": [
    "# Defining a starting value for the trade-off parameter (beta) between the data\n",
    "# misfit and the regularization.\n",
    "starting_beta = directives.BetaEstimate_ByEig(beta0_ratio=5)\n",
    "\n",
    "# Options for outputting recovered models and predicted data for each beta.\n",
    "save_iteration = directives.SaveOutputEveryIteration(save_txt=False)\n",
    "\n",
    "# Defines the directives for the IRLS regularization. This includes setting\n",
    "# the cooling schedule for the trade-off parameter.\n",
    "update_IRLS = directives.Update_IRLS(\n",
    "    f_min_change=1e-4,\n",
    "    max_irls_iterations=30,\n",
    "    coolEpsFact=1.5,\n",
    "    beta_tol=1e-2,\n",
    ")\n",
    "\n",
    "# Updating the preconditioner if it is model dependent.\n",
    "update_jacobi = directives.UpdatePreconditioner()\n",
    "\n",
    "# Setting a stopping criteria for the inversion.\n",
    "target_misfit = directives.TargetMisfit(chifact=1)\n",
    "\n",
    "# Add sensitivity weights\n",
    "sensitivity_weights = directives.UpdateSensitivityWeights(everyIter=False)\n",
    "\n",
    "# The directives are defined as a list.\n",
    "directives_list = [\n",
    "    sensitivity_weights,\n",
    "    starting_beta,\n",
    "    save_iteration,\n",
    "    update_IRLS,\n",
    "    update_jacobi,\n",
    "]"
   ]
  },
  {
   "cell_type": "code",
   "execution_count": 557,
   "id": "00a52e9a",
   "metadata": {},
   "outputs": [
    {
     "name": "stdout",
     "output_type": "stream",
     "text": [
      "\n",
      "        SimPEG.InvProblem is setting bfgsH0 to the inverse of the eval2Deriv.\n",
      "        ***Done using same Solver and solverOpts as the problem***\n",
      "model has any nan: 0\n",
      "=============================== Projected GNCG ===============================\n",
      "  #     beta     phi_d     phi_m       f      |proj(x-g)-x|  LS    Comment   \n",
      "-----------------------------------------------------------------------------\n",
      "x0 has any nan: 0\n",
      "   0  3.00e+06  2.20e+03  0.00e+00  2.20e+03    4.02e+01      0              \n",
      "   1  1.50e+06  3.56e+02  1.40e-04  5.66e+02    3.82e+01      0              \n",
      "   2  7.50e+05  1.71e+02  2.26e-04  3.41e+02    3.74e+01      0   Skip BFGS  \n",
      "   3  3.75e+05  7.07e+01  3.18e-04  1.90e+02    3.67e+01      0   Skip BFGS  \n",
      "   4  1.88e+05  2.46e+01  4.01e-04  9.98e+01    3.66e+01      0   Skip BFGS  \n",
      "   5  9.38e+04  7.55e+00  4.62e-04  5.09e+01    3.62e+01      0   Skip BFGS  \n",
      "Reached starting chifact with l2-norm regularization: Start IRLS steps...\n",
      "eps_p: 0.0003467187700481096 eps_q: 0.0003467187700481096\n",
      "   6  4.69e+04  2.13e+00  9.20e-04  4.53e+01    3.03e+01      0   Skip BFGS  \n",
      "   7  1.09e+05  1.51e+00  1.47e-03  1.62e+02    2.58e+01      0              \n",
      "   8  5.74e+04  1.32e+01  2.09e-03  1.33e+02    3.03e+01      0              \n",
      "   9  3.48e+04  8.69e+00  3.24e-03  1.21e+02    3.03e+01      0              \n",
      "  10  2.76e+04  4.79e+00  3.24e-03  9.39e+01    2.94e+01      0              \n",
      "------------------------- STOP! -------------------------\n",
      "1 : |fc-fOld| = 2.7235e+01 <= tolF*(1+|f0|) = 2.2000e+02\n",
      "1 : |xc-x_last| = 1.6161e-02 <= tolX*(1+|x0|) = 1.0045e-01\n",
      "0 : |proj(x-g)-x|    = 2.9351e+01 <= tolG          = 1.0000e-01\n",
      "0 : |proj(x-g)-x|    = 2.9351e+01 <= 1e3*eps       = 1.0000e-02\n",
      "1 : maxIter   =      10    <= iter          =     10\n",
      "------------------------- DONE! -------------------------\n"
     ]
    }
   ],
   "source": [
    "# Here we combine the inverse problem and the set of directives\n",
    "inv = inversion.BaseInversion(inv_prob, directives_list)\n",
    "\n",
    "# Print target misfit to compare with convergence\n",
    "# print(\"Target misfit is \" + str(target_misfit.target))\n",
    "\n",
    "# Run the inversion\n",
    "recovered_model = inv.run(starting_model)"
   ]
  },
  {
   "cell_type": "code",
   "execution_count": 558,
   "id": "0230fa33",
   "metadata": {},
   "outputs": [
    {
     "data": {
      "text/plain": [
       "'\\nbackground_susceptibility * np.ones(nC)\\nind_sphere = model_builder.getIndicesSphere(\\n    np.r_[0.0, 0.0, -45.0], 15.0, mesh.cell_centers\\n)\\nind_sphere = ind_sphere[ind_active]\\ntrue_model[ind_sphere] = sphere_susceptibility\\n'"
      ]
     },
     "execution_count": 558,
     "metadata": {},
     "output_type": "execute_result"
    }
   ],
   "source": [
    "background_susceptibility = 0.0001\n",
    "sphere_susceptibility = 0.01\n",
    "\n",
    "true_model = model\n",
    "\"\"\"\n",
    "background_susceptibility * np.ones(nC)\n",
    "ind_sphere = model_builder.getIndicesSphere(\n",
    "    np.r_[0.0, 0.0, -45.0], 15.0, mesh.cell_centers\n",
    ")\n",
    "ind_sphere = ind_sphere[ind_active]\n",
    "true_model[ind_sphere] = sphere_susceptibility\n",
    "\"\"\""
   ]
  },
  {
   "cell_type": "code",
   "execution_count": 559,
   "id": "203bf172",
   "metadata": {
    "scrolled": false
   },
   "outputs": [
    {
     "data": {
      "image/png": "[encoded data removed]",
      "text/plain": [
       "<Figure size 648x288 with 2 Axes>"
      ]
     },
     "metadata": {
      "needs_background": "light"
     },
     "output_type": "display_data"
    },
    {
     "data": {
      "image/png": "[encoded data removed]",
      "text/plain": [
       "<Figure size 648x288 with 2 Axes>"
      ]
     },
     "metadata": {
      "needs_background": "light"
     },
     "output_type": "display_data"
    }
   ],
   "source": [
    "# Plot True Model\n",
    "fig = plt.figure(figsize=(9, 4))\n",
    "plotting_map = maps.InjectActiveCells(mesh, ind_active, np.nan)\n",
    "\n",
    "ax1 = fig.add_axes([0.08, 0.1, 0.75, 0.8])\n",
    "mesh.plotSlice(\n",
    "    plotting_map * true_model,\n",
    "    normal=\"Y\",\n",
    "    ax=ax1,\n",
    "    ind=int(mesh.nCy / 2),\n",
    "    grid=True,\n",
    "    clim=(np.min(true_model), np.max(true_model)),\n",
    "    pcolorOpts={\"cmap\": \"viridis\"},\n",
    ")\n",
    "ax1.set_title(\"Model slice at y = 0 m\")\n",
    "\n",
    "ax2 = fig.add_axes([0.85, 0.1, 0.05, 0.8])\n",
    "norm = mpl.colors.Normalize(vmin=np.min(true_model), vmax=np.max(true_model))\n",
    "cbar = mpl.colorbar.ColorbarBase(\n",
    "    ax2, norm=norm, orientation=\"vertical\", cmap=mpl.cm.viridis, format=\"%.1e\"\n",
    ")\n",
    "cbar.set_label(\"SI\", rotation=270, labelpad=15, size=12)\n",
    "\n",
    "plt.show()\n",
    "\n",
    "# Plot Recovered Model\n",
    "fig = plt.figure(figsize=(9, 4))\n",
    "plotting_map = maps.InjectActiveCells(mesh, ind_active, np.nan)\n",
    "\n",
    "ax1 = fig.add_axes([0.08, 0.1, 0.75, 0.8])\n",
    "mesh.plotSlice(\n",
    "    plotting_map * recovered_model,\n",
    "    normal=\"Y\",\n",
    "    ax=ax1,\n",
    "    ind=int(mesh.nCy / 2),\n",
    "    grid=True,\n",
    "    clim=(np.min(recovered_model), np.max(recovered_model)),\n",
    "    pcolorOpts={\"cmap\": \"viridis\"},\n",
    ")\n",
    "ax1.set_title(\"Model slice at y = 0 m\")\n",
    "\n",
    "ax2 = fig.add_axes([0.85, 0.1, 0.05, 0.8])\n",
    "norm = mpl.colors.Normalize(vmin=np.min(recovered_model), vmax=np.max(recovered_model))\n",
    "cbar = mpl.colorbar.ColorbarBase(\n",
    "    ax2, norm=norm, orientation=\"vertical\", cmap=mpl.cm.viridis, format=\"%.1e\"\n",
    ")\n",
    "cbar.set_label(\"SI\", rotation=270, labelpad=15, size=12)\n",
    "\n",
    "plt.show()"
   ]
  },
  {
   "cell_type": "code",
   "execution_count": 560,
   "id": "eef254d2",
   "metadata": {},
   "outputs": [],
   "source": [
    "def RMS(real, generated): #compares rms of real and generated model\n",
    "    return np.sqrt(np.average((generated-real)**2))\n",
    "\n"
   ]
  },
  {
   "cell_type": "code",
   "execution_count": 561,
   "id": "b26ca148",
   "metadata": {},
   "outputs": [
    {
     "data": {
      "text/plain": [
       "0.001327505100388124"
      ]
     },
     "execution_count": 561,
     "metadata": {},
     "output_type": "execute_result"
    }
   ],
   "source": [
    "RMS(true_model, recovered_model) \n",
    "#there are some positions which work better than others...\n",
    "#although RMS may be misleading in some cases\n"
   ]
  },
  {
   "cell_type": "code",
   "execution_count": 453,
   "id": "6115abfa",
   "metadata": {},
   "outputs": [
    {
     "data": {
      "text/plain": [
       "1"
      ]
     },
     "execution_count": 453,
     "metadata": {},
     "output_type": "execute_result"
    }
   ],
   "source": [
    "int(mesh.nCy / 2)"
   ]
  },
  {
   "cell_type": "code",
   "execution_count": 454,
   "id": "ed742af1",
   "metadata": {},
   "outputs": [
    {
     "data": {
      "text/plain": [
       "2"
      ]
     },
     "execution_count": 454,
     "metadata": {},
     "output_type": "execute_result"
    }
   ],
   "source": [
    "mesh.nCy"
   ]
  },
  {
   "cell_type": "code",
   "execution_count": 455,
   "id": "8f30862f",
   "metadata": {},
   "outputs": [
    {
     "data": {
      "image/png": "[encoded data removed]",
      "text/plain": [
       "<Figure size 1224x288 with 6 Axes>"
      ]
     },
     "metadata": {
      "needs_background": "light"
     },
     "output_type": "display_data"
    }
   ],
   "source": [
    "# Predicted data with final recovered model\n",
    "dpred = inv_prob.dpred\n",
    "\n",
    "# Observed data | Predicted data | Normalized data misfit\n",
    "data_array = np.c_[dobs, dpred, (dobs - dpred) / std]\n",
    "\n",
    "fig = plt.figure(figsize=(17, 4))\n",
    "plot_title = [\"Observed\", \"Predicted\", \"Normalized Misfit\"]\n",
    "plot_units = [\"nT\", \"nT\", \"\"]\n",
    "\n",
    "ax1 = 3 * [None]\n",
    "ax2 = 3 * [None]\n",
    "norm = 3 * [None]\n",
    "cbar = 3 * [None]\n",
    "cplot = 3 * [None]\n",
    "v_lim = [np.max(np.abs(dobs)), np.max(np.abs(dobs)), np.max(np.abs(data_array[:, 2]))]\n",
    "\n",
    "for ii in range(0, 3):\n",
    "\n",
    "    ax1[ii] = fig.add_axes([0.33 * ii + 0.03, 0.11, 0.25, 0.84])\n",
    "    cplot[ii] = plot2Ddata(\n",
    "        receiver_list[0].locations,\n",
    "        data_array[:, ii],\n",
    "        ax=ax1[ii],\n",
    "        ncontour=30,\n",
    "        clim=(-v_lim[ii], v_lim[ii]),\n",
    "        contourOpts={\"cmap\": \"bwr\"},\n",
    "    )\n",
    "    ax1[ii].set_title(plot_title[ii])\n",
    "    ax1[ii].set_xlabel(\"x (m)\")\n",
    "    ax1[ii].set_ylabel(\"y (m)\")\n",
    "\n",
    "    ax2[ii] = fig.add_axes([0.33 * ii + 0.27, 0.11, 0.01, 0.84])\n",
    "    norm[ii] = mpl.colors.Normalize(vmin=-v_lim[ii], vmax=v_lim[ii])\n",
    "    cbar[ii] = mpl.colorbar.ColorbarBase(\n",
    "        ax2[ii], norm=norm[ii], orientation=\"vertical\", cmap=mpl.cm.bwr\n",
    "    )\n",
    "    cbar[ii].set_label(plot_units[ii], rotation=270, labelpad=15, size=12)\n",
    "\n",
    "plt.show()"
   ]
  },
  {
   "cell_type": "code",
   "execution_count": null,
   "id": "7506f974",
   "metadata": {},
   "outputs": [],
   "source": []
  },
  {
   "cell_type": "code",
   "execution_count": null,
   "id": "b3c694e1",
   "metadata": {},
   "outputs": [],
   "source": []
  },
  {
   "cell_type": "code",
   "execution_count": null,
   "id": "38559c5a",
   "metadata": {},
   "outputs": [],
   "source": []
  }
 ],
 "metadata": {
  "kernelspec": {
   "display_name": "Python 3 (ipykernel)",
   "language": "python",
   "name": "python3"
  },
  "language_info": {
   "codemirror_mode": {
    "name": "ipython",
    "version": 3
   },
   "file_extension": ".py",
   "mimetype": "text/x-python",
   "name": "python",
   "nbconvert_exporter": "python",
   "pygments_lexer": "ipython3",
   "version": "3.9.12"
  }
 },
 "nbformat": 4,
 "nbformat_minor": 5
}
