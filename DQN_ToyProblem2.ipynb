{
 "cells": [
  {
   "cell_type": "markdown",
   "id": "a9d4a94d",
   "metadata": {},
   "source": [
    "# Change input state space to tensor (survey data + path), and NN model to convolutional neural network"
   ]
  },
  {
   "cell_type": "code",
   "execution_count": 1,
   "id": "76413096",
   "metadata": {},
   "outputs": [],
   "source": [
    "import random\n",
    "import numpy as np\n",
    "import matplotlib.pyplot as plt\n",
    "from collections import deque\n",
    "import tensorflow as tf\n",
    "from tensorflow.keras import datasets, layers, models\n",
    "from keras.layers import Dense\n",
    "from tensorflow.keras.optimizers import Adam\n",
    "import os # for creating directories\n",
    "import pydot"
   ]
  },
  {
   "cell_type": "code",
   "execution_count": 2,
   "id": "d2645376",
   "metadata": {},
   "outputs": [],
   "source": [
    "state_size = 10*10 #10x10 matrix data, do np.reshape([100])"
   ]
  },
  {
   "cell_type": "code",
   "execution_count": 3,
   "id": "4af2d3c6",
   "metadata": {},
   "outputs": [],
   "source": [
    "a1 = np.reshape(np.reshape(np.arange(100), [10,10]), [100])"
   ]
  },
  {
   "cell_type": "code",
   "execution_count": 4,
   "id": "d2652e21",
   "metadata": {},
   "outputs": [],
   "source": [
    "action_size = 4"
   ]
  },
  {
   "cell_type": "code",
   "execution_count": 5,
   "id": "9cadbf26",
   "metadata": {},
   "outputs": [],
   "source": [
    "batch_size = 10"
   ]
  },
  {
   "cell_type": "code",
   "execution_count": null,
   "id": "a9d20fac",
   "metadata": {},
   "outputs": [],
   "source": []
  },
  {
   "cell_type": "code",
   "execution_count": 6,
   "id": "5b017783",
   "metadata": {},
   "outputs": [],
   "source": [
    "output_dir = 'model_output/ToyProblem/'\n"
   ]
  },
  {
   "cell_type": "code",
   "execution_count": 7,
   "id": "9707d672",
   "metadata": {},
   "outputs": [],
   "source": [
    "if not os.path.exists(output_dir):\n",
    "    os.makedirs(output_dir)"
   ]
  },
  {
   "cell_type": "code",
   "execution_count": 8,
   "id": "547c74e8",
   "metadata": {},
   "outputs": [],
   "source": [
    "class DQNAgent:\n",
    "    def __init__(self, state_size, action_size):\n",
    "        self.state_size = state_size\n",
    "        self.action_size = action_size\n",
    "        self.memory = deque(maxlen=2000) # double-ended queue; acts like list, but elements can be added/removed from either end\n",
    "        self.gamma = 1 #0.95 # decay or discount rate: enables agent to take into account future actions in addition to the immediate ones, but discounted at this rate\n",
    "        self.epsilon = 0.99 # exploration rate: how much to act randomly; more initially than later due to epsilon decay\n",
    "        self.epsilon_decay = 0.995 # decrease number of random explorations as the agent's performance (hopefully) improves over time\n",
    "        self.epsilon_min = 0.01 # minimum amount of random exploration permitted\n",
    "        self.learning_rate = 0.001 # rate at which NN adjusts models parameters via SGD to reduce cost \n",
    "        self.model = self._build_model() # private method \n",
    "    \n",
    "    def _build_model(self):\n",
    "        # neural net to approximate Q-value function:\n",
    "        model = models.Sequential()\n",
    "        model.add(layers.Conv2D(10, (3, 3), activation='relu', input_shape=(10, 10, 2)))\n",
    "        model.add(layers.MaxPooling2D((2, 2)))\n",
    "        model.add(layers.Conv2D(16, (3, 3), activation='relu'))\n",
    "        model.add(layers.Flatten())\n",
    "        model.add(layers.Dense(4))\n",
    "\n",
    "        \n",
    "        #model = Sequential()\n",
    "        #model.add(Dense(5, input_dim=self.state_size, activation='relu')) # 1st hidden layer; states as input\n",
    "        #model.add(Dense(24, activation='relu')) #add move layers, for CNN\n",
    "        #model.add(Dense(self.action_size, activation='linear')) # 2 actions, so 2 output neurons: 0 and 1 (L/R)\n",
    "        model.compile(loss='mse',\n",
    "                      optimizer=Adam(lr=self.learning_rate))\n",
    "        return model\n",
    "    \n",
    "    def remember(self, state, action, reward, next_state, done):\n",
    "        self.memory.append((state, action, reward, next_state, done)) # list of previous experiences, enabling re-training later\n",
    "\n",
    "    def act(self, state):\n",
    "        if np.random.rand() <= self.epsilon: # if acting randomly, take random action\n",
    "            return random.randrange(self.action_size)\n",
    "        act_values = self.model.predict(state) # if not acting randomly, predict reward value based on current state\n",
    "        return np.argmax(act_values[0]) # pick the action that will give the highest reward (i.e., go left or right?)\n",
    "\n",
    "    def replay(self, batch_size): # method that trains NN with experiences sampled from memory\n",
    "        minibatch = random.sample(self.memory, batch_size) # sample a minibatch from memory\n",
    "        for state, action, reward, next_state, done in minibatch: # extract data for each minibatch sample\n",
    "            target = reward # if done (boolean whether game ended or not, i.e., whether final state or not), then target = reward\n",
    "            if not done: # if not done, then predict future discounted reward\n",
    "                target = (reward + self.gamma * # (target) = reward + (discount rate gamma) * \n",
    "                          np.amax(self.model.predict(next_state)[0])) # (maximum target Q based on future action a')\n",
    "            target_f = self.model.predict(state) # approximately map current state to future discounted reward\n",
    "            target_f[0][action] = target\n",
    "            self.model.fit(state, target_f, epochs=1, verbose=0) # single epoch of training with x=state, y=target_f; fit decreases loss btwn target_f and y_hat\n",
    "        if self.epsilon > self.epsilon_min:\n",
    "            self.epsilon *= self.epsilon_decay\n",
    "\n",
    "    def load(self, name):\n",
    "        self.model.load_weights(name)\n",
    "\n",
    "    def save(self, name):\n",
    "        self.model.save_weights(name)"
   ]
  },
  {
   "cell_type": "code",
   "execution_count": 9,
   "id": "aa7b8d98",
   "metadata": {},
   "outputs": [
    {
     "name": "stderr",
     "output_type": "stream",
     "text": [
      "2022-11-13 00:50:56.857265: I tensorflow/core/platform/cpu_feature_guard.cc:151] This TensorFlow binary is optimized with oneAPI Deep Neural Network Library (oneDNN) to use the following CPU instructions in performance-critical operations:  SSE4.1 SSE4.2 AVX AVX2 FMA\n",
      "To enable them in other operations, rebuild TensorFlow with the appropriate compiler flags.\n",
      "2022-11-13 00:50:56.880012: I tensorflow/core/common_runtime/process_util.cc:146] Creating new thread pool with default inter op setting: 2. Tune using inter_op_parallelism_threads for best performance.\n",
      "/home/aremorov/anaconda3/envs/tf/lib/python3.9/site-packages/keras/optimizer_v2/adam.py:105: UserWarning: The `lr` argument is deprecated, use `learning_rate` instead.\n",
      "  super(Adam, self).__init__(name, **kwargs)\n"
     ]
    }
   ],
   "source": [
    "agent = DQNAgent(state_size, action_size) # initialise agent "
   ]
  },
  {
   "cell_type": "code",
   "execution_count": 10,
   "id": "3d67d7ac",
   "metadata": {},
   "outputs": [
    {
     "data": {
      "text/plain": [
       "<__main__.DQNAgent at 0x7f0caa949d30>"
      ]
     },
     "execution_count": 10,
     "metadata": {},
     "output_type": "execute_result"
    }
   ],
   "source": [
    "agent"
   ]
  },
  {
   "cell_type": "code",
   "execution_count": 11,
   "id": "49f508ff",
   "metadata": {},
   "outputs": [],
   "source": [
    "start_state = np.zeros([10,10])"
   ]
  },
  {
   "cell_type": "code",
   "execution_count": 12,
   "id": "ea4d2414",
   "metadata": {},
   "outputs": [],
   "source": [
    "state = start_state # reset state at start of each new episode of the game\n",
    "state = np.reshape(state, [1, state_size])\n"
   ]
  },
  {
   "cell_type": "code",
   "execution_count": 13,
   "id": "99a3673b",
   "metadata": {},
   "outputs": [
    {
     "data": {
      "text/plain": [
       "(100, 1)"
      ]
     },
     "execution_count": 13,
     "metadata": {},
     "output_type": "execute_result"
    }
   ],
   "source": [
    "state.T.shape"
   ]
  },
  {
   "cell_type": "code",
   "execution_count": 15,
   "id": "4e3ab009",
   "metadata": {},
   "outputs": [
    {
     "data": {
      "image/png": "[encoded data removed]",
      "text/plain": [
       "<IPython.core.display.Image object>"
      ]
     },
     "execution_count": 15,
     "metadata": {},
     "output_type": "execute_result"
    }
   ],
   "source": [
    "model = models.Sequential()\n",
    "model.add(layers.Conv2D(32, (3, 3), activation='relu', input_shape=(32, 32, 3)))\n",
    "model.add(layers.MaxPooling2D((2, 2)))\n",
    "model.add(layers.Conv2D(64, (3, 3), activation='relu'))\n",
    "model.add(layers.MaxPooling2D((2, 2)))\n",
    "model.add(layers.Conv2D(64, (3, 3), activation='relu'))\n",
    "model.add(layers.Flatten())\n",
    "model.add(layers.Dense(64, activation='relu'))\n",
    "model.add(layers.Dense(10))\n",
    "tf.keras.utils.plot_model(model, show_shapes=True)"
   ]
  },
  {
   "cell_type": "code",
   "execution_count": 16,
   "id": "2d8ad22e",
   "metadata": {},
   "outputs": [
    {
     "data": {
      "text/plain": [
       "(1, 100)"
      ]
     },
     "execution_count": 16,
     "metadata": {},
     "output_type": "execute_result"
    }
   ],
   "source": [
    "state.shape"
   ]
  },
  {
   "cell_type": "code",
   "execution_count": 17,
   "id": "9d0d0b25",
   "metadata": {},
   "outputs": [],
   "source": [
    "model = models.Sequential()\n",
    "model.add(layers.Conv2D(10, (3, 3), activation='relu', input_shape=(10, 10, 2)))\n",
    "model.add(layers.MaxPooling2D((2, 2)))\n",
    "model.add(layers.Conv2D(16, (3, 3), activation='relu'))\n",
    "model.add(layers.Flatten())\n",
    "model.add(layers.Dense(4))\n",
    "#tf.keras.utils.plot_model(model, show_shapes=True)"
   ]
  },
  {
   "cell_type": "code",
   "execution_count": 18,
   "id": "bed1f007",
   "metadata": {},
   "outputs": [
    {
     "data": {
      "text/plain": [
       "2"
      ]
     },
     "execution_count": 18,
     "metadata": {},
     "output_type": "execute_result"
    }
   ],
   "source": [
    "action = agent.act(state) + 1\n",
    "action"
   ]
  },
  {
   "cell_type": "markdown",
   "id": "4017ca3d",
   "metadata": {},
   "source": [
    "# Toy problem"
   ]
  },
  {
   "cell_type": "code",
   "execution_count": 19,
   "id": "9efe932f",
   "metadata": {},
   "outputs": [],
   "source": [
    "#setting up actions:\n",
    "\n",
    "def movef(action, position):\n",
    "    moved = False\n",
    "    newposition = position #make the new position the current position, so position does not change if move is invalid\n",
    "    if action == 1 and position[1] != 9: #right\n",
    "        newposition = [position[0], position[1]+1]\n",
    "        moved == True\n",
    "    if action == 2 and position[0] != 0: #up\n",
    "        newposition = [position[0]-1, position[1]]\n",
    "        moved == True\n",
    "    if action == 3 and position[1] != 0: #left\n",
    "        newposition = [position[0], position[1]-1]\n",
    "        moved == True\n",
    "    if action == 4 and position[0] != 9: #down\n",
    "        newposition = [position[0] + 1, position[1]]\n",
    "        moved == True\n",
    "    return newposition"
   ]
  },
  {
   "cell_type": "code",
   "execution_count": 20,
   "id": "8fd4db1a",
   "metadata": {},
   "outputs": [],
   "source": [
    "def RMSreward(real, fit):\n",
    "    real = np.array(real)\n",
    "    fit = np.array(fit)\n",
    "    RMS = np.sqrt(np.average((real - fit)**2))\n",
    "    reward = 1/(RMS + 0.01)\n",
    "    return reward"
   ]
  },
  {
   "cell_type": "code",
   "execution_count": 21,
   "id": "e2927f0d",
   "metadata": {},
   "outputs": [
    {
     "data": {
      "text/plain": [
       "array([[0., 0., 0., 0., 0., 0., 0., 0., 0., 0.],\n",
       "       [0., 0., 0., 0., 0., 0., 0., 0., 0., 0.],\n",
       "       [0., 0., 0., 0., 0., 0., 0., 0., 0., 0.],\n",
       "       [0., 0., 0., 0., 0., 0., 0., 0., 0., 0.],\n",
       "       [0., 0., 0., 0., 0., 0., 0., 0., 0., 0.],\n",
       "       [0., 0., 0., 0., 1., 1., 1., 1., 1., 0.],\n",
       "       [0., 0., 0., 0., 1., 1., 1., 1., 1., 0.],\n",
       "       [0., 0., 0., 0., 1., 1., 1., 1., 1., 0.],\n",
       "       [0., 0., 0., 0., 1., 1., 1., 1., 1., 0.],\n",
       "       [0., 0., 0., 0., 1., 1., 1., 1., 1., 0.]])"
      ]
     },
     "execution_count": 21,
     "metadata": {},
     "output_type": "execute_result"
    }
   ],
   "source": [
    "#setting up subsurface model:\n",
    "\n",
    "M = np.zeros([10,10]) #generate grid of zeros\n",
    "tlc = [random.randint(0,5),random.randint(0,5)] #top left corner\n",
    "M[tlc[0]:tlc[0] + 5, tlc[1]:tlc[1] + 5] = 1\n",
    "M"
   ]
  },
  {
   "cell_type": "code",
   "execution_count": 22,
   "id": "2c1ac190",
   "metadata": {},
   "outputs": [],
   "source": [
    "#now for the reward, we do ground truthing, by fitting a 5x5 square to the\n",
    "#state data, and then determining the misfit\n",
    "\n",
    "def fitstate(S): #takes in the state\n",
    "    fit = False\n",
    "\n",
    "    while(not fit):\n",
    "        #generate possible fit model:\n",
    "        fM = np.zeros([10,10]) #fit Model\n",
    "        ftlc = [random.randint(0,5),random.randint(0,5)] #fit top left corner\n",
    "        fM[ftlc[0]:ftlc[0] + 5, ftlc[1]:ftlc[1] + 5] = 1\n",
    "\n",
    "        fit = True #make fit true, but false if fit does not agree with survey\n",
    "        for i in range(len(fM)):\n",
    "            for j in range(len(fM[i])):\n",
    "                if(S[i,j] != 0 and fM[i,j] * 2 - 1 != S[i,j]):\n",
    "                    fit = False\n",
    "    return fM"
   ]
  },
  {
   "cell_type": "code",
   "execution_count": 23,
   "id": "69d2f452",
   "metadata": {},
   "outputs": [],
   "source": [
    "start_state = np.zeros([10,10,2]) #original state\n"
   ]
  },
  {
   "cell_type": "code",
   "execution_count": 24,
   "id": "eb5af0c9",
   "metadata": {},
   "outputs": [],
   "source": [
    "sp = [0,0] #start at top left corner\n",
    "p = sp \n",
    "\n",
    "state = start_state + 0 # reset state at start of each new episode of the game\n"
   ]
  },
  {
   "cell_type": "code",
   "execution_count": 25,
   "id": "36300c4a",
   "metadata": {},
   "outputs": [
    {
     "data": {
      "text/plain": [
       "(10, 10, 2)"
      ]
     },
     "execution_count": 25,
     "metadata": {},
     "output_type": "execute_result"
    }
   ],
   "source": [
    "state.shape"
   ]
  },
  {
   "cell_type": "code",
   "execution_count": 26,
   "id": "9b9b433f",
   "metadata": {},
   "outputs": [
    {
     "data": {
      "text/plain": [
       "array([[ 0., -1.,  0.,  0.,  0.,  0.,  0.,  0.,  0.,  0.],\n",
       "       [ 0.,  0.,  0.,  0.,  0.,  0.,  0.,  0.,  0.,  0.],\n",
       "       [ 0.,  0.,  0.,  0.,  0.,  0.,  0.,  0.,  0.,  0.],\n",
       "       [ 0.,  0.,  0.,  0.,  0.,  0.,  0.,  0.,  0.,  0.],\n",
       "       [ 0.,  0.,  0.,  0.,  0.,  0.,  0.,  0.,  0.,  0.],\n",
       "       [ 0.,  0.,  0.,  0.,  0.,  0.,  0.,  0.,  0.,  0.],\n",
       "       [ 0.,  0.,  0.,  0.,  0.,  0.,  0.,  0.,  0.,  0.],\n",
       "       [ 0.,  0.,  0.,  0.,  0.,  0.,  0.,  0.,  0.,  0.],\n",
       "       [ 0.,  0.,  0.,  0.,  0.,  0.,  0.,  0.,  0.,  0.],\n",
       "       [ 0.,  0.,  0.,  0.,  0.,  0.,  0.,  0.,  0.,  0.]])"
      ]
     },
     "execution_count": 26,
     "metadata": {},
     "output_type": "execute_result"
    }
   ],
   "source": [
    "move  = 1\n",
    "p = movef(move, p)\n",
    "state[p[0], p[1], 0] = M[p[0], p[1]] * 2 - 1\n",
    "state[p[0], p[1], 1] = 1 #1st move\n",
    "#state = np.reshape(state2D, [1, state_size])\n",
    "state[:,:,0]"
   ]
  },
  {
   "cell_type": "code",
   "execution_count": 27,
   "id": "ef88fc5c",
   "metadata": {},
   "outputs": [
    {
     "data": {
      "text/plain": [
       "array([[0., 1., 0., 0., 0., 0., 0., 0., 0., 0.],\n",
       "       [0., 0., 0., 0., 0., 0., 0., 0., 0., 0.],\n",
       "       [0., 0., 0., 0., 0., 0., 0., 0., 0., 0.],\n",
       "       [0., 0., 0., 0., 0., 0., 0., 0., 0., 0.],\n",
       "       [0., 0., 0., 0., 0., 0., 0., 0., 0., 0.],\n",
       "       [0., 0., 0., 0., 0., 0., 0., 0., 0., 0.],\n",
       "       [0., 0., 0., 0., 0., 0., 0., 0., 0., 0.],\n",
       "       [0., 0., 0., 0., 0., 0., 0., 0., 0., 0.],\n",
       "       [0., 0., 0., 0., 0., 0., 0., 0., 0., 0.],\n",
       "       [0., 0., 0., 0., 0., 0., 0., 0., 0., 0.]])"
      ]
     },
     "execution_count": 27,
     "metadata": {},
     "output_type": "execute_result"
    }
   ],
   "source": [
    "state[:,:,1]"
   ]
  },
  {
   "cell_type": "code",
   "execution_count": 28,
   "id": "df7fb50a",
   "metadata": {},
   "outputs": [
    {
     "data": {
      "text/plain": [
       "(10, 10, 2)"
      ]
     },
     "execution_count": 28,
     "metadata": {},
     "output_type": "execute_result"
    }
   ],
   "source": [
    "state.shape"
   ]
  },
  {
   "cell_type": "code",
   "execution_count": 29,
   "id": "4fae8f94",
   "metadata": {},
   "outputs": [
    {
     "name": "stderr",
     "output_type": "stream",
     "text": [
      "/home/aremorov/anaconda3/envs/tf/lib/python3.9/site-packages/keras/optimizer_v2/adam.py:105: UserWarning: The `lr` argument is deprecated, use `learning_rate` instead.\n",
      "  super(Adam, self).__init__(name, **kwargs)\n"
     ]
    }
   ],
   "source": [
    "agent = DQNAgent(state_size, action_size) # initialise agent "
   ]
  },
  {
   "cell_type": "code",
   "execution_count": null,
   "id": "929f83de",
   "metadata": {},
   "outputs": [],
   "source": [
    "reward_list = []"
   ]
  },
  {
   "cell_type": "code",
   "execution_count": null,
   "id": "824c80d6",
   "metadata": {},
   "outputs": [],
   "source": []
  },
  {
   "cell_type": "code",
   "execution_count": null,
   "id": "53734a3e",
   "metadata": {
    "scrolled": true
   },
   "outputs": [],
   "source": [
    "#need to figure out how to make this learn faster...implement CNN\n",
    "n_episodes = 1000  # n games we want agent to play (default 1001)\n",
    "for e in range(n_episodes): # iterate over new episodes of the game\n",
    "    state = np.zeros([10,10,2]) # reset state at start of each new episode of the game\n",
    "    sp = [5,5]\n",
    "    p = sp\n",
    "    \n",
    "    M = np.zeros([10,10]) #generate random model\n",
    "    tlc = [5*random.randint(0,1),5*random.randint(0,1)]\n",
    "    M[tlc[0]:tlc[0] + 5, tlc[1]:tlc[1] + 5] = 1\n",
    "    \n",
    "    print(e)\n",
    "    timesteps = 20\n",
    "    for time in range(timesteps):  # time represents a frame of the game; goal is to keep pole upright as long as possible up to range, e.g., 500 or 5000 timesteps\n",
    "        action = agent.act(state) # action is 0,1,2,3\n",
    "        p = movef(action+1, p) #make action 1,2,3,4\n",
    "        current_state = state + 0 #fix the current state, then change state to next state\n",
    "        state[p[0], p[1],0] = M[p[0], p[1]] * 2 - 1 #survey measurement\n",
    "        state[p[0], p[1],1] = time #path\n",
    "        next_state = state + 0\n",
    "        reward = 0\n",
    "        if(time == timesteps - 1):\n",
    "            reward = RMSreward(fitstate(state[:,:,0]), M) \n",
    "            reward_list.append(reward)\n",
    "            print(reward)\n",
    "        \n",
    "        agent.remember(current_state, action, reward, next_state, False) # remember the previous timestep's state, actions, reward, etc.        \n",
    "        state = next_state+0 # set \"current state\" for upcoming iteration to the current next state        \n",
    "        \n",
    "    if len(agent.memory) > batch_size:\n",
    "        agent.replay(batch_size) # train the agent by replaying the experiences of the episode\n",
    "    if e % 50 == 0:\n",
    "        agent.save(output_dir + \"weights_\" + '{:04d}'.format(e) + \".hdf5\")         "
   ]
  },
  {
   "cell_type": "code",
   "execution_count": null,
   "id": "a0a095f3",
   "metadata": {
    "scrolled": true
   },
   "outputs": [],
   "source": [
    "e"
   ]
  },
  {
   "cell_type": "code",
   "execution_count": null,
   "id": "76e1f331",
   "metadata": {
    "scrolled": true
   },
   "outputs": [],
   "source": [
    "state2D"
   ]
  },
  {
   "cell_type": "code",
   "execution_count": null,
   "id": "20454a04",
   "metadata": {},
   "outputs": [],
   "source": [
    "state2D[5,4]"
   ]
  },
  {
   "cell_type": "code",
   "execution_count": null,
   "id": "a87341e6",
   "metadata": {
    "scrolled": true
   },
   "outputs": [],
   "source": [
    "reward_list[4]"
   ]
  },
  {
   "cell_type": "code",
   "execution_count": 133,
   "id": "58dce2e4",
   "metadata": {
    "scrolled": true
   },
   "outputs": [
    {
     "data": {
      "text/plain": [
       "<matplotlib.collections.PathCollection at 0x7f07b121ebb0>"
      ]
     },
     "execution_count": 133,
     "metadata": {},
     "output_type": "execute_result"
    },
    {
     "data": {
      "image/png": "[encoded data removed]",
      "text/plain": [
       "<Figure size 640x480 with 1 Axes>"
      ]
     },
     "metadata": {},
     "output_type": "display_data"
    }
   ],
   "source": [
    "plt.scatter(np.arange(len(reward_list)), reward_list)"
   ]
  },
  {
   "cell_type": "code",
   "execution_count": null,
   "id": "93241a65",
   "metadata": {},
   "outputs": [],
   "source": [
    "state2D_list[4]"
   ]
  },
  {
   "cell_type": "code",
   "execution_count": null,
   "id": "c2915b7c",
   "metadata": {},
   "outputs": [],
   "source": []
  }
 ],
 "metadata": {
  "kernelspec": {
   "display_name": "Python 3 (ipykernel)",
   "language": "python",
   "name": "python3"
  },
  "language_info": {
   "codemirror_mode": {
    "name": "ipython",
    "version": 3
   },
   "file_extension": ".py",
   "mimetype": "text/x-python",
   "name": "python",
   "nbconvert_exporter": "python",
   "pygments_lexer": "ipython3",
   "version": "3.9.13"
  }
 },
 "nbformat": 4,
 "nbformat_minor": 5
}
